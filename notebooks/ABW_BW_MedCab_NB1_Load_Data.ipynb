{
  "nbformat": 4,
  "nbformat_minor": 0,
  "metadata": {
    "colab": {
      "name": "ABW_BW_MedCab_NB1_Load_Data.ipynb",
      "provenance": [],
      "collapsed_sections": [
        "PvpVrmsNIFkP",
        "LRboeEHBNzD8",
        "CXPfeOamstkg",
        "H_VrsYnfsxW2"
      ]
    },
    "kernelspec": {
      "name": "python3",
      "display_name": "Python 3"
    }
  },
  "cells": [
    {
      "cell_type": "markdown",
      "metadata": {
        "id": "LmZAqZBms8AD",
        "colab_type": "text"
      },
      "source": [
        "# Read in cannabis.csv"
      ]
    },
    {
      "cell_type": "code",
      "metadata": {
        "id": "2DUe52PAFDmf",
        "colab_type": "code",
        "colab": {
          "base_uri": "https://localhost:8080/",
          "height": 272
        },
        "outputId": "adfdf7dd-2e05-432e-ec91-c4766b7e330b"
      },
      "source": [
        "import pandas as pd\n",
        "\n",
        "URL = \"https://raw.githubusercontent.com/ekselan/DS-2/master/data/cannabis.csv\"\n",
        "cancsv = pd.read_csv(URL)\n",
        "print(cancsv.shape)\n",
        "cancsv.head()"
      ],
      "execution_count": 1,
      "outputs": [
        {
          "output_type": "stream",
          "text": [
            "(2351, 6)\n"
          ],
          "name": "stdout"
        },
        {
          "output_type": "execute_result",
          "data": {
            "text/html": [
              "<div>\n",
              "<style scoped>\n",
              "    .dataframe tbody tr th:only-of-type {\n",
              "        vertical-align: middle;\n",
              "    }\n",
              "\n",
              "    .dataframe tbody tr th {\n",
              "        vertical-align: top;\n",
              "    }\n",
              "\n",
              "    .dataframe thead th {\n",
              "        text-align: right;\n",
              "    }\n",
              "</style>\n",
              "<table border=\"1\" class=\"dataframe\">\n",
              "  <thead>\n",
              "    <tr style=\"text-align: right;\">\n",
              "      <th></th>\n",
              "      <th>Strain</th>\n",
              "      <th>Type</th>\n",
              "      <th>Rating</th>\n",
              "      <th>Effects</th>\n",
              "      <th>Flavor</th>\n",
              "      <th>Description</th>\n",
              "    </tr>\n",
              "  </thead>\n",
              "  <tbody>\n",
              "    <tr>\n",
              "      <th>0</th>\n",
              "      <td>100-Og</td>\n",
              "      <td>hybrid</td>\n",
              "      <td>4.0</td>\n",
              "      <td>Creative,Energetic,Tingly,Euphoric,Relaxed</td>\n",
              "      <td>Earthy,Sweet,Citrus</td>\n",
              "      <td>$100 OG is a 50/50 hybrid strain that packs a ...</td>\n",
              "    </tr>\n",
              "    <tr>\n",
              "      <th>1</th>\n",
              "      <td>98-White-Widow</td>\n",
              "      <td>hybrid</td>\n",
              "      <td>4.7</td>\n",
              "      <td>Relaxed,Aroused,Creative,Happy,Energetic</td>\n",
              "      <td>Flowery,Violet,Diesel</td>\n",
              "      <td>The ‘98 Aloha White Widow is an especially pot...</td>\n",
              "    </tr>\n",
              "    <tr>\n",
              "      <th>2</th>\n",
              "      <td>1024</td>\n",
              "      <td>sativa</td>\n",
              "      <td>4.4</td>\n",
              "      <td>Uplifted,Happy,Relaxed,Energetic,Creative</td>\n",
              "      <td>Spicy/Herbal,Sage,Woody</td>\n",
              "      <td>1024 is a sativa-dominant hybrid bred in Spain...</td>\n",
              "    </tr>\n",
              "    <tr>\n",
              "      <th>3</th>\n",
              "      <td>13-Dawgs</td>\n",
              "      <td>hybrid</td>\n",
              "      <td>4.2</td>\n",
              "      <td>Tingly,Creative,Hungry,Relaxed,Uplifted</td>\n",
              "      <td>Apricot,Citrus,Grapefruit</td>\n",
              "      <td>13 Dawgs is a hybrid of G13 and Chemdawg genet...</td>\n",
              "    </tr>\n",
              "    <tr>\n",
              "      <th>4</th>\n",
              "      <td>24K-Gold</td>\n",
              "      <td>hybrid</td>\n",
              "      <td>4.6</td>\n",
              "      <td>Happy,Relaxed,Euphoric,Uplifted,Talkative</td>\n",
              "      <td>Citrus,Earthy,Orange</td>\n",
              "      <td>Also known as Kosher Tangie, 24k Gold is a 60%...</td>\n",
              "    </tr>\n",
              "  </tbody>\n",
              "</table>\n",
              "</div>"
            ],
            "text/plain": [
              "           Strain  ...                                        Description\n",
              "0          100-Og  ...  $100 OG is a 50/50 hybrid strain that packs a ...\n",
              "1  98-White-Widow  ...  The ‘98 Aloha White Widow is an especially pot...\n",
              "2            1024  ...  1024 is a sativa-dominant hybrid bred in Spain...\n",
              "3        13-Dawgs  ...  13 Dawgs is a hybrid of G13 and Chemdawg genet...\n",
              "4        24K-Gold  ...  Also known as Kosher Tangie, 24k Gold is a 60%...\n",
              "\n",
              "[5 rows x 6 columns]"
            ]
          },
          "metadata": {
            "tags": []
          },
          "execution_count": 1
        }
      ]
    },
    {
      "cell_type": "markdown",
      "metadata": {
        "id": "PvpVrmsNIFkP",
        "colab_type": "text"
      },
      "source": [
        "# Create csv dataset from The Strain API\n"
      ]
    },
    {
      "cell_type": "code",
      "metadata": {
        "id": "yArmTBmdGbVq",
        "colab_type": "code",
        "colab": {}
      },
      "source": [
        "# The Strain API Key\n",
        "\n",
        "API_KEY = \"iZMkqry\""
      ],
      "execution_count": 2,
      "outputs": []
    },
    {
      "cell_type": "code",
      "metadata": {
        "id": "PBecBW0eIeEo",
        "colab_type": "code",
        "colab": {}
      },
      "source": [
        "# Import statements for interaction with API\n",
        "import numpy as np\n",
        "import requests\n",
        "import json"
      ],
      "execution_count": 3,
      "outputs": []
    },
    {
      "cell_type": "code",
      "metadata": {
        "id": "2nYCEj1mFjPz",
        "colab_type": "code",
        "colab": {
          "base_uri": "https://localhost:8080/",
          "height": 54
        },
        "outputId": "c5596068-b028-4425-9439-1b7296113a58"
      },
      "source": [
        "import requests\n",
        "response = requests.get(f\"https://strainapi.evanbusse.com/{API_KEY}/searchdata/effects\")\n",
        "print(response.json())"
      ],
      "execution_count": 4,
      "outputs": [
        {
          "output_type": "stream",
          "text": [
            "[{'effect': 'Relaxed', 'type': 'positive'}, {'effect': 'Dizzy', 'type': 'negative'}, {'effect': 'Hungry', 'type': 'positive'}, {'effect': 'Euphoric', 'type': 'positive'}, {'effect': 'Happy', 'type': 'positive'}, {'effect': 'Depression', 'type': 'medical'}, {'effect': 'Insomnia', 'type': 'medical'}, {'effect': 'Pain', 'type': 'medical'}, {'effect': 'Stress', 'type': 'medical'}, {'effect': 'Cramps', 'type': 'medical'}, {'effect': 'Creative', 'type': 'positive'}, {'effect': 'Energetic', 'type': 'positive'}, {'effect': 'Talkative', 'type': 'positive'}, {'effect': 'Lack of Appetite', 'type': 'medical'}, {'effect': 'Nausea', 'type': 'medical'}, {'effect': 'Dry Mouth', 'type': 'negative'}, {'effect': 'Headache', 'type': 'medical'}, {'effect': 'Uplifted', 'type': 'positive'}, {'effect': 'Tingly', 'type': 'positive'}, {'effect': 'Paranoid', 'type': 'negative'}, {'effect': 'Sleepy', 'type': 'positive'}, {'effect': 'Fatigue', 'type': 'medical'}, {'effect': 'Headaches', 'type': 'medical'}, {'effect': 'Dry Eyes', 'type': 'negative'}, {'effect': 'Focused', 'type': 'positive'}, {'effect': 'Eye Pressure', 'type': 'medical'}, {'effect': 'Anxious', 'type': 'negative'}, {'effect': 'Giggly', 'type': 'positive'}, {'effect': 'Aroused', 'type': 'positive'}, {'effect': 'Inflammation', 'type': 'medical'}, {'effect': 'Spasticity', 'type': 'medical'}, {'effect': 'Seizures', 'type': 'medical'}, {'effect': 'Muscle Spasms', 'type': 'medical'}]\n"
          ],
          "name": "stdout"
        }
      ]
    },
    {
      "cell_type": "markdown",
      "metadata": {
        "id": "LRboeEHBNzD8",
        "colab_type": "text"
      },
      "source": [
        "### Read in data from API"
      ]
    },
    {
      "cell_type": "code",
      "metadata": {
        "id": "iOG6IPLIIK2X",
        "colab_type": "code",
        "colab": {}
      },
      "source": [
        "# API call for all strains\n",
        "url = f\"https://strainapi.evanbusse.com/{API_KEY}/strains/search/all\"\n",
        "JSONContent = requests.get(url).json()\n",
        "content = json.dumps(JSONContent, indent=3, sort_keys=True) #> Just to print and\n",
        "# investigate\n",
        "# print(content)"
      ],
      "execution_count": 5,
      "outputs": []
    },
    {
      "cell_type": "code",
      "metadata": {
        "id": "ijmeCju6MXGF",
        "colab_type": "code",
        "colab": {
          "base_uri": "https://localhost:8080/",
          "height": 34
        },
        "outputId": "5d7a9bb4-2957-48a9-da7d-27563d0d9ec4"
      },
      "source": [
        "type(JSONContent)"
      ],
      "execution_count": 6,
      "outputs": [
        {
          "output_type": "execute_result",
          "data": {
            "text/plain": [
              "dict"
            ]
          },
          "metadata": {
            "tags": []
          },
          "execution_count": 6
        }
      ]
    },
    {
      "cell_type": "code",
      "metadata": {
        "id": "WqBij8-2Jdug",
        "colab_type": "code",
        "colab": {
          "base_uri": "https://localhost:8080/",
          "height": 34
        },
        "outputId": "28b6e9a2-0cff-4f43-c1de-8557851c13fb"
      },
      "source": [
        "df = pd.DataFrame.from_dict(JSONContent)\n",
        "# Transpose for proper shape\n",
        "df = df.T\n",
        "# Reset Index\n",
        "df = df.reset_index()\n",
        "# Rename old index column\n",
        "df = df.rename(columns={\"index\":\"strain\"})\n",
        "print(df.shape)\n",
        "# df.head()"
      ],
      "execution_count": 7,
      "outputs": [
        {
          "output_type": "stream",
          "text": [
            "(1970, 5)\n"
          ],
          "name": "stdout"
        }
      ]
    },
    {
      "cell_type": "code",
      "metadata": {
        "id": "cInOGVJzR2MY",
        "colab_type": "code",
        "colab": {}
      },
      "source": [
        "df2 = pd.json_normalize(df['effects'])\n",
        "# df2.head()"
      ],
      "execution_count": 8,
      "outputs": []
    },
    {
      "cell_type": "code",
      "metadata": {
        "id": "V76S_oPqR8lp",
        "colab_type": "code",
        "colab": {
          "base_uri": "https://localhost:8080/",
          "height": 34
        },
        "outputId": "159ec567-6a28-4d96-c24e-70390dda3558"
      },
      "source": [
        "type(df2['positive'][0])"
      ],
      "execution_count": 9,
      "outputs": [
        {
          "output_type": "execute_result",
          "data": {
            "text/plain": [
              "list"
            ]
          },
          "metadata": {
            "tags": []
          },
          "execution_count": 9
        }
      ]
    },
    {
      "cell_type": "code",
      "metadata": {
        "id": "IuWC4mF0QVCA",
        "colab_type": "code",
        "colab": {
          "base_uri": "https://localhost:8080/",
          "height": 34
        },
        "outputId": "1fc002dd-eeec-4595-bc9f-c82b5add5230"
      },
      "source": [
        "# Make copy of dataset\n",
        "data = df.copy()\n",
        "print(data.shape)\n",
        "# data.head()"
      ],
      "execution_count": 10,
      "outputs": [
        {
          "output_type": "stream",
          "text": [
            "(1970, 5)\n"
          ],
          "name": "stdout"
        }
      ]
    },
    {
      "cell_type": "code",
      "metadata": {
        "id": "5bLVxJDjROoX",
        "colab_type": "code",
        "colab": {
          "base_uri": "https://localhost:8080/",
          "height": 34
        },
        "outputId": "2f3d5260-c387-424a-ad04-fe80f4e96b4b"
      },
      "source": [
        "# df with effects dictionaries unpacked\n",
        "df2 = data['effects'].apply(pd.Series)\n",
        "# Establish foreign key to merge on\n",
        "df2['id'] = data['id']\n",
        "print(df2.shape)\n",
        "# df2.head()"
      ],
      "execution_count": 11,
      "outputs": [
        {
          "output_type": "stream",
          "text": [
            "(1970, 4)\n"
          ],
          "name": "stdout"
        }
      ]
    },
    {
      "cell_type": "code",
      "metadata": {
        "id": "bYFlhZmWRUvW",
        "colab_type": "code",
        "colab": {
          "base_uri": "https://localhost:8080/",
          "height": 0
        },
        "outputId": "710911f7-5324-4458-c51c-a5fb4d998c1f"
      },
      "source": [
        "# Merge unpacked effects into data\n",
        "dataset = data.merge(df2, how='inner', on='id')\n",
        "dataset = dataset.drop('effects', axis=1)\n",
        "print(dataset.shape)\n",
        "dataset.head()"
      ],
      "execution_count": 12,
      "outputs": [
        {
          "output_type": "stream",
          "text": [
            "(1970, 7)\n"
          ],
          "name": "stdout"
        },
        {
          "output_type": "execute_result",
          "data": {
            "text/html": [
              "<div>\n",
              "<style scoped>\n",
              "    .dataframe tbody tr th:only-of-type {\n",
              "        vertical-align: middle;\n",
              "    }\n",
              "\n",
              "    .dataframe tbody tr th {\n",
              "        vertical-align: top;\n",
              "    }\n",
              "\n",
              "    .dataframe thead th {\n",
              "        text-align: right;\n",
              "    }\n",
              "</style>\n",
              "<table border=\"1\" class=\"dataframe\">\n",
              "  <thead>\n",
              "    <tr style=\"text-align: right;\">\n",
              "      <th></th>\n",
              "      <th>strain</th>\n",
              "      <th>id</th>\n",
              "      <th>race</th>\n",
              "      <th>flavors</th>\n",
              "      <th>positive</th>\n",
              "      <th>negative</th>\n",
              "      <th>medical</th>\n",
              "    </tr>\n",
              "  </thead>\n",
              "  <tbody>\n",
              "    <tr>\n",
              "      <th>0</th>\n",
              "      <td>Afpak</td>\n",
              "      <td>1</td>\n",
              "      <td>hybrid</td>\n",
              "      <td>[Earthy, Chemical, Pine]</td>\n",
              "      <td>[Relaxed, Hungry, Happy, Sleepy]</td>\n",
              "      <td>[Dizzy]</td>\n",
              "      <td>[Depression, Insomnia, Pain, Stress, Lack of A...</td>\n",
              "    </tr>\n",
              "    <tr>\n",
              "      <th>1</th>\n",
              "      <td>African</td>\n",
              "      <td>2</td>\n",
              "      <td>sativa</td>\n",
              "      <td>[Spicy/Herbal, Pungent, Earthy]</td>\n",
              "      <td>[Euphoric, Happy, Creative, Energetic, Talkative]</td>\n",
              "      <td>[Dry Mouth]</td>\n",
              "      <td>[Depression, Pain, Stress, Lack of Appetite, N...</td>\n",
              "    </tr>\n",
              "    <tr>\n",
              "      <th>2</th>\n",
              "      <td>Afternoon Delight</td>\n",
              "      <td>3</td>\n",
              "      <td>hybrid</td>\n",
              "      <td>[Pepper, Flowery, Pine]</td>\n",
              "      <td>[Relaxed, Hungry, Euphoric, Uplifted, Tingly]</td>\n",
              "      <td>[Dizzy, Dry Mouth, Paranoid]</td>\n",
              "      <td>[Depression, Insomnia, Pain, Stress, Cramps, H...</td>\n",
              "    </tr>\n",
              "    <tr>\n",
              "      <th>3</th>\n",
              "      <td>Afwreck</td>\n",
              "      <td>4</td>\n",
              "      <td>hybrid</td>\n",
              "      <td>[Pine, Earthy, Flowery]</td>\n",
              "      <td>[Relaxed, Happy, Creative, Uplifted, Sleepy]</td>\n",
              "      <td>[Dizzy, Dry Mouth, Paranoid, Dry Eyes]</td>\n",
              "      <td>[Pain, Stress, Headache, Fatigue, Headaches, M...</td>\n",
              "    </tr>\n",
              "    <tr>\n",
              "      <th>4</th>\n",
              "      <td>Agent Orange</td>\n",
              "      <td>5</td>\n",
              "      <td>hybrid</td>\n",
              "      <td>[Citrus, Orange, Sweet]</td>\n",
              "      <td>[Relaxed, Euphoric, Happy, Energetic, Uplifted]</td>\n",
              "      <td>[Dizzy, Dry Mouth, Paranoid, Dry Eyes]</td>\n",
              "      <td>[Depression, Pain, Stress, Nausea, Headache, H...</td>\n",
              "    </tr>\n",
              "  </tbody>\n",
              "</table>\n",
              "</div>"
            ],
            "text/plain": [
              "              strain  ...                                            medical\n",
              "0              Afpak  ...  [Depression, Insomnia, Pain, Stress, Lack of A...\n",
              "1            African  ...  [Depression, Pain, Stress, Lack of Appetite, N...\n",
              "2  Afternoon Delight  ...  [Depression, Insomnia, Pain, Stress, Cramps, H...\n",
              "3            Afwreck  ...  [Pain, Stress, Headache, Fatigue, Headaches, M...\n",
              "4       Agent Orange  ...  [Depression, Pain, Stress, Nausea, Headache, H...\n",
              "\n",
              "[5 rows x 7 columns]"
            ]
          },
          "metadata": {
            "tags": []
          },
          "execution_count": 12
        }
      ]
    },
    {
      "cell_type": "code",
      "metadata": {
        "id": "hDlnp30omjUE",
        "colab_type": "code",
        "colab": {
          "base_uri": "https://localhost:8080/",
          "height": 153
        },
        "outputId": "0afd170c-8d4e-4098-eb37-5ed3e9284348"
      },
      "source": [
        "dataset.isnull().sum()"
      ],
      "execution_count": 13,
      "outputs": [
        {
          "output_type": "execute_result",
          "data": {
            "text/plain": [
              "strain      0\n",
              "id          0\n",
              "race        0\n",
              "flavors     0\n",
              "positive    0\n",
              "negative    0\n",
              "medical     0\n",
              "dtype: int64"
            ]
          },
          "metadata": {
            "tags": []
          },
          "execution_count": 13
        }
      ]
    },
    {
      "cell_type": "markdown",
      "metadata": {
        "id": "CXPfeOamstkg",
        "colab_type": "text"
      },
      "source": [
        "### Prep data for merge"
      ]
    },
    {
      "cell_type": "code",
      "metadata": {
        "id": "BOdmMmWXnOn9",
        "colab_type": "code",
        "colab": {}
      },
      "source": [
        "# Function to wrangle column values\n",
        "\n",
        "def wrangle(x):\n",
        "  \"\"\" Wrangle column value lists into strings\"\"\"\n",
        "  # flavors column\n",
        "  flavors = []\n",
        "  for row in x['flavors']:\n",
        "    row = str(row)\n",
        "    row = row.replace(\"[\",\"\") \n",
        "    row = row.replace(\"'\",\"\") \n",
        "    row = row.replace(\"]\",\"\") \n",
        "    flavors.append(row)\n",
        "  x['flavors'] = flavors\n",
        "\n",
        "  # positive column\n",
        "  pos = []\n",
        "  for row in x['positive']:\n",
        "    row = str(row)\n",
        "    row = row.replace(\"[\",\"\") \n",
        "    row = row.replace(\"'\",\"\") \n",
        "    row = row.replace(\"]\",\"\")\n",
        "    pos.append(row)\n",
        "  x['positive'] = pos\n",
        "\n",
        "  # negative column\n",
        "  neg = []\n",
        "  for row in x['negative']:\n",
        "    row = str(row)\n",
        "    row = row.replace(\"[\",\"\") \n",
        "    row = row.replace(\"'\",\"\") \n",
        "    row = row.replace(\"]\",\"\")\n",
        "    neg.append(row)\n",
        "  x['negative'] = neg\n",
        "\n",
        "  # medical column\n",
        "  med = []\n",
        "  for row in x['medical']:\n",
        "    row = str(row)\n",
        "    row = row.replace(\"[\",\"\") \n",
        "    row = row.replace(\"'\",\"\") \n",
        "    row = row.replace(\"]\",\"\")\n",
        "    med.append(row)\n",
        "  x['medical'] = med\n",
        "  return x"
      ],
      "execution_count": 14,
      "outputs": []
    },
    {
      "cell_type": "code",
      "metadata": {
        "id": "CYEMKNQPqzqF",
        "colab_type": "code",
        "colab": {
          "base_uri": "https://localhost:8080/",
          "height": 0
        },
        "outputId": "f85bc931-f15e-40d8-d3d3-6577375ec84c"
      },
      "source": [
        "dataset_clean = dataset.copy()\n",
        "dataset_clean = wrangle(dataset_clean)\n",
        "dataset_clean.head()"
      ],
      "execution_count": 15,
      "outputs": [
        {
          "output_type": "execute_result",
          "data": {
            "text/html": [
              "<div>\n",
              "<style scoped>\n",
              "    .dataframe tbody tr th:only-of-type {\n",
              "        vertical-align: middle;\n",
              "    }\n",
              "\n",
              "    .dataframe tbody tr th {\n",
              "        vertical-align: top;\n",
              "    }\n",
              "\n",
              "    .dataframe thead th {\n",
              "        text-align: right;\n",
              "    }\n",
              "</style>\n",
              "<table border=\"1\" class=\"dataframe\">\n",
              "  <thead>\n",
              "    <tr style=\"text-align: right;\">\n",
              "      <th></th>\n",
              "      <th>strain</th>\n",
              "      <th>id</th>\n",
              "      <th>race</th>\n",
              "      <th>flavors</th>\n",
              "      <th>positive</th>\n",
              "      <th>negative</th>\n",
              "      <th>medical</th>\n",
              "    </tr>\n",
              "  </thead>\n",
              "  <tbody>\n",
              "    <tr>\n",
              "      <th>0</th>\n",
              "      <td>Afpak</td>\n",
              "      <td>1</td>\n",
              "      <td>hybrid</td>\n",
              "      <td>Earthy, Chemical, Pine</td>\n",
              "      <td>Relaxed, Hungry, Happy, Sleepy</td>\n",
              "      <td>Dizzy</td>\n",
              "      <td>Depression, Insomnia, Pain, Stress, Lack of Ap...</td>\n",
              "    </tr>\n",
              "    <tr>\n",
              "      <th>1</th>\n",
              "      <td>African</td>\n",
              "      <td>2</td>\n",
              "      <td>sativa</td>\n",
              "      <td>Spicy/Herbal, Pungent, Earthy</td>\n",
              "      <td>Euphoric, Happy, Creative, Energetic, Talkative</td>\n",
              "      <td>Dry Mouth</td>\n",
              "      <td>Depression, Pain, Stress, Lack of Appetite, Na...</td>\n",
              "    </tr>\n",
              "    <tr>\n",
              "      <th>2</th>\n",
              "      <td>Afternoon Delight</td>\n",
              "      <td>3</td>\n",
              "      <td>hybrid</td>\n",
              "      <td>Pepper, Flowery, Pine</td>\n",
              "      <td>Relaxed, Hungry, Euphoric, Uplifted, Tingly</td>\n",
              "      <td>Dizzy, Dry Mouth, Paranoid</td>\n",
              "      <td>Depression, Insomnia, Pain, Stress, Cramps, He...</td>\n",
              "    </tr>\n",
              "    <tr>\n",
              "      <th>3</th>\n",
              "      <td>Afwreck</td>\n",
              "      <td>4</td>\n",
              "      <td>hybrid</td>\n",
              "      <td>Pine, Earthy, Flowery</td>\n",
              "      <td>Relaxed, Happy, Creative, Uplifted, Sleepy</td>\n",
              "      <td>Dizzy, Dry Mouth, Paranoid, Dry Eyes</td>\n",
              "      <td>Pain, Stress, Headache, Fatigue, Headaches, Mu...</td>\n",
              "    </tr>\n",
              "    <tr>\n",
              "      <th>4</th>\n",
              "      <td>Agent Orange</td>\n",
              "      <td>5</td>\n",
              "      <td>hybrid</td>\n",
              "      <td>Citrus, Orange, Sweet</td>\n",
              "      <td>Relaxed, Euphoric, Happy, Energetic, Uplifted</td>\n",
              "      <td>Dizzy, Dry Mouth, Paranoid, Dry Eyes</td>\n",
              "      <td>Depression, Pain, Stress, Nausea, Headache, He...</td>\n",
              "    </tr>\n",
              "  </tbody>\n",
              "</table>\n",
              "</div>"
            ],
            "text/plain": [
              "              strain  ...                                            medical\n",
              "0              Afpak  ...  Depression, Insomnia, Pain, Stress, Lack of Ap...\n",
              "1            African  ...  Depression, Pain, Stress, Lack of Appetite, Na...\n",
              "2  Afternoon Delight  ...  Depression, Insomnia, Pain, Stress, Cramps, He...\n",
              "3            Afwreck  ...  Pain, Stress, Headache, Fatigue, Headaches, Mu...\n",
              "4       Agent Orange  ...  Depression, Pain, Stress, Nausea, Headache, He...\n",
              "\n",
              "[5 rows x 7 columns]"
            ]
          },
          "metadata": {
            "tags": []
          },
          "execution_count": 15
        }
      ]
    },
    {
      "cell_type": "markdown",
      "metadata": {
        "id": "H_VrsYnfsxW2",
        "colab_type": "text"
      },
      "source": [
        "# Merge cannabis.csv with The Strain data"
      ]
    },
    {
      "cell_type": "code",
      "metadata": {
        "id": "_FTR0UFJnqfX",
        "colab_type": "code",
        "colab": {
          "base_uri": "https://localhost:8080/",
          "height": 51
        },
        "outputId": "ebff23f4-af98-4569-a433-516deb86e819"
      },
      "source": [
        "print('TheStrain:', dataset_clean.shape)\n",
        "print('cancsv:', cancsv.shape)\n",
        "cancsv = cancsv.rename(columns={\"Strain\":\"strain\"})\n",
        "# cancsv.head()"
      ],
      "execution_count": 16,
      "outputs": [
        {
          "output_type": "stream",
          "text": [
            "TheStrain: (1970, 7)\n",
            "cancsv: (2351, 6)\n"
          ],
          "name": "stdout"
        }
      ]
    },
    {
      "cell_type": "code",
      "metadata": {
        "id": "dXcmoHRDudIS",
        "colab_type": "code",
        "colab": {}
      },
      "source": [
        "# Clean strings in strain column to prep for merge\n",
        "\n",
        "def wrangle_cancsv(x):\n",
        "  rows = []\n",
        "  for row in x['strain']:\n",
        "    row = row.replace(\"-\",\" \")\n",
        "    rows.append(row)\n",
        "  x['strain'] = rows\n",
        "  return x\n",
        "\n",
        "can_clean = wrangle_cancsv(cancsv)"
      ],
      "execution_count": 17,
      "outputs": []
    },
    {
      "cell_type": "code",
      "metadata": {
        "id": "j_Xa0ajitPSR",
        "colab_type": "code",
        "colab": {
          "base_uri": "https://localhost:8080/",
          "height": 0
        },
        "outputId": "868db1ec-1594-4c12-e45c-50202aaefc25"
      },
      "source": [
        "# Merge data\n",
        "final = dataset_clean.merge(cancsv, how='inner', on='strain')\n",
        "df = final.copy()\n",
        "df = df.drop(columns=['race','Effects','Description','negative'])\n",
        "# Replace empty values with nan\n",
        "df = df.replace(r'^\\s*$', np.nan, regex=True)\n",
        "df = df.dropna()\n",
        "print(df.shape)\n",
        "df.head()"
      ],
      "execution_count": 18,
      "outputs": [
        {
          "output_type": "stream",
          "text": [
            "(1463, 8)\n"
          ],
          "name": "stdout"
        },
        {
          "output_type": "execute_result",
          "data": {
            "text/html": [
              "<div>\n",
              "<style scoped>\n",
              "    .dataframe tbody tr th:only-of-type {\n",
              "        vertical-align: middle;\n",
              "    }\n",
              "\n",
              "    .dataframe tbody tr th {\n",
              "        vertical-align: top;\n",
              "    }\n",
              "\n",
              "    .dataframe thead th {\n",
              "        text-align: right;\n",
              "    }\n",
              "</style>\n",
              "<table border=\"1\" class=\"dataframe\">\n",
              "  <thead>\n",
              "    <tr style=\"text-align: right;\">\n",
              "      <th></th>\n",
              "      <th>strain</th>\n",
              "      <th>id</th>\n",
              "      <th>flavors</th>\n",
              "      <th>positive</th>\n",
              "      <th>medical</th>\n",
              "      <th>Type</th>\n",
              "      <th>Rating</th>\n",
              "      <th>Flavor</th>\n",
              "    </tr>\n",
              "  </thead>\n",
              "  <tbody>\n",
              "    <tr>\n",
              "      <th>0</th>\n",
              "      <td>Afpak</td>\n",
              "      <td>1</td>\n",
              "      <td>Earthy, Chemical, Pine</td>\n",
              "      <td>Relaxed, Hungry, Happy, Sleepy</td>\n",
              "      <td>Depression, Insomnia, Pain, Stress, Lack of Ap...</td>\n",
              "      <td>hybrid</td>\n",
              "      <td>4.2</td>\n",
              "      <td>Pine,Spicy/Herbal,Earthy</td>\n",
              "    </tr>\n",
              "    <tr>\n",
              "      <th>1</th>\n",
              "      <td>African</td>\n",
              "      <td>2</td>\n",
              "      <td>Spicy/Herbal, Pungent, Earthy</td>\n",
              "      <td>Euphoric, Happy, Creative, Energetic, Talkative</td>\n",
              "      <td>Depression, Pain, Stress, Lack of Appetite, Na...</td>\n",
              "      <td>sativa</td>\n",
              "      <td>3.9</td>\n",
              "      <td>Spicy/Herbal,Pungent,Pepper</td>\n",
              "    </tr>\n",
              "    <tr>\n",
              "      <th>2</th>\n",
              "      <td>Afternoon Delight</td>\n",
              "      <td>3</td>\n",
              "      <td>Pepper, Flowery, Pine</td>\n",
              "      <td>Relaxed, Hungry, Euphoric, Uplifted, Tingly</td>\n",
              "      <td>Depression, Insomnia, Pain, Stress, Cramps, He...</td>\n",
              "      <td>hybrid</td>\n",
              "      <td>4.8</td>\n",
              "      <td>Pungent,Citrus,Tropical</td>\n",
              "    </tr>\n",
              "    <tr>\n",
              "      <th>3</th>\n",
              "      <td>Afwreck</td>\n",
              "      <td>4</td>\n",
              "      <td>Pine, Earthy, Flowery</td>\n",
              "      <td>Relaxed, Happy, Creative, Uplifted, Sleepy</td>\n",
              "      <td>Pain, Stress, Headache, Fatigue, Headaches, Mu...</td>\n",
              "      <td>hybrid</td>\n",
              "      <td>4.2</td>\n",
              "      <td>Earthy,Pine,Pungent</td>\n",
              "    </tr>\n",
              "    <tr>\n",
              "      <th>4</th>\n",
              "      <td>Agent Orange</td>\n",
              "      <td>5</td>\n",
              "      <td>Citrus, Orange, Sweet</td>\n",
              "      <td>Relaxed, Euphoric, Happy, Energetic, Uplifted</td>\n",
              "      <td>Depression, Pain, Stress, Nausea, Headache, He...</td>\n",
              "      <td>hybrid</td>\n",
              "      <td>4.2</td>\n",
              "      <td>Citrus,Orange,Earthy</td>\n",
              "    </tr>\n",
              "  </tbody>\n",
              "</table>\n",
              "</div>"
            ],
            "text/plain": [
              "              strain  id  ... Rating                       Flavor\n",
              "0              Afpak   1  ...    4.2     Pine,Spicy/Herbal,Earthy\n",
              "1            African   2  ...    3.9  Spicy/Herbal,Pungent,Pepper\n",
              "2  Afternoon Delight   3  ...    4.8      Pungent,Citrus,Tropical\n",
              "3            Afwreck   4  ...    4.2          Earthy,Pine,Pungent\n",
              "4       Agent Orange   5  ...    4.2         Citrus,Orange,Earthy\n",
              "\n",
              "[5 rows x 8 columns]"
            ]
          },
          "metadata": {
            "tags": []
          },
          "execution_count": 18
        }
      ]
    },
    {
      "cell_type": "code",
      "metadata": {
        "id": "J-AOwopG3lP8",
        "colab_type": "code",
        "colab": {
          "base_uri": "https://localhost:8080/",
          "height": 170
        },
        "outputId": "f43b80a3-5b9d-4931-9645-6e9c42fc1a21"
      },
      "source": [
        "df.isnull().sum()"
      ],
      "execution_count": 19,
      "outputs": [
        {
          "output_type": "execute_result",
          "data": {
            "text/plain": [
              "strain      0\n",
              "id          0\n",
              "flavors     0\n",
              "positive    0\n",
              "medical     0\n",
              "Type        0\n",
              "Rating      0\n",
              "Flavor      0\n",
              "dtype: int64"
            ]
          },
          "metadata": {
            "tags": []
          },
          "execution_count": 19
        }
      ]
    },
    {
      "cell_type": "markdown",
      "metadata": {
        "id": "TQisRax-xEmF",
        "colab_type": "text"
      },
      "source": [
        "# Export dataset to .csv"
      ]
    },
    {
      "cell_type": "code",
      "metadata": {
        "id": "0Ki_pYDtxEGP",
        "colab_type": "code",
        "colab": {}
      },
      "source": [
        "# df.to_csv(\"/files/BW_MedCab_Dataset.csv\", index=False)"
      ],
      "execution_count": 20,
      "outputs": []
    },
    {
      "cell_type": "code",
      "metadata": {
        "id": "vnbM63yJ1v-V",
        "colab_type": "code",
        "colab": {}
      },
      "source": [
        "# df.to_csv(\"/files/BW_MedCab_Dataset_With_Index.csv\", index=True)"
      ],
      "execution_count": 21,
      "outputs": []
    },
    {
      "cell_type": "markdown",
      "metadata": {
        "id": "y-q1Ea9l8x9C",
        "colab_type": "text"
      },
      "source": [
        "## NLP"
      ]
    },
    {
      "cell_type": "markdown",
      "metadata": {
        "id": "0e74DDBW9Tiz",
        "colab_type": "text"
      },
      "source": [
        "### Tokenize Effects"
      ]
    },
    {
      "cell_type": "code",
      "metadata": {
        "id": "-GUGkThH_UMp",
        "colab_type": "code",
        "colab": {
          "base_uri": "https://localhost:8080/",
          "height": 428
        },
        "outputId": "34460695-369c-4189-ab7d-b649d1067ab4"
      },
      "source": [
        "import spacy\n",
        "!python -m spacy download en_core_web_sm"
      ],
      "execution_count": 22,
      "outputs": [
        {
          "output_type": "stream",
          "text": [
            "Requirement already satisfied: en_core_web_sm==2.2.5 from https://github.com/explosion/spacy-models/releases/download/en_core_web_sm-2.2.5/en_core_web_sm-2.2.5.tar.gz#egg=en_core_web_sm==2.2.5 in /usr/local/lib/python3.6/dist-packages (2.2.5)\n",
            "Requirement already satisfied: spacy>=2.2.2 in /usr/local/lib/python3.6/dist-packages (from en_core_web_sm==2.2.5) (2.2.4)\n",
            "Requirement already satisfied: thinc==7.4.0 in /usr/local/lib/python3.6/dist-packages (from spacy>=2.2.2->en_core_web_sm==2.2.5) (7.4.0)\n",
            "Requirement already satisfied: blis<0.5.0,>=0.4.0 in /usr/local/lib/python3.6/dist-packages (from spacy>=2.2.2->en_core_web_sm==2.2.5) (0.4.1)\n",
            "Requirement already satisfied: numpy>=1.15.0 in /usr/local/lib/python3.6/dist-packages (from spacy>=2.2.2->en_core_web_sm==2.2.5) (1.18.5)\n",
            "Requirement already satisfied: tqdm<5.0.0,>=4.38.0 in /usr/local/lib/python3.6/dist-packages (from spacy>=2.2.2->en_core_web_sm==2.2.5) (4.41.1)\n",
            "Requirement already satisfied: requests<3.0.0,>=2.13.0 in /usr/local/lib/python3.6/dist-packages (from spacy>=2.2.2->en_core_web_sm==2.2.5) (2.23.0)\n",
            "Requirement already satisfied: murmurhash<1.1.0,>=0.28.0 in /usr/local/lib/python3.6/dist-packages (from spacy>=2.2.2->en_core_web_sm==2.2.5) (1.0.2)\n",
            "Requirement already satisfied: cymem<2.1.0,>=2.0.2 in /usr/local/lib/python3.6/dist-packages (from spacy>=2.2.2->en_core_web_sm==2.2.5) (2.0.3)\n",
            "Requirement already satisfied: srsly<1.1.0,>=1.0.2 in /usr/local/lib/python3.6/dist-packages (from spacy>=2.2.2->en_core_web_sm==2.2.5) (1.0.2)\n",
            "Requirement already satisfied: catalogue<1.1.0,>=0.0.7 in /usr/local/lib/python3.6/dist-packages (from spacy>=2.2.2->en_core_web_sm==2.2.5) (1.0.0)\n",
            "Requirement already satisfied: setuptools in /usr/local/lib/python3.6/dist-packages (from spacy>=2.2.2->en_core_web_sm==2.2.5) (47.3.1)\n",
            "Requirement already satisfied: preshed<3.1.0,>=3.0.2 in /usr/local/lib/python3.6/dist-packages (from spacy>=2.2.2->en_core_web_sm==2.2.5) (3.0.2)\n",
            "Requirement already satisfied: plac<1.2.0,>=0.9.6 in /usr/local/lib/python3.6/dist-packages (from spacy>=2.2.2->en_core_web_sm==2.2.5) (1.1.3)\n",
            "Requirement already satisfied: wasabi<1.1.0,>=0.4.0 in /usr/local/lib/python3.6/dist-packages (from spacy>=2.2.2->en_core_web_sm==2.2.5) (0.6.0)\n",
            "Requirement already satisfied: chardet<4,>=3.0.2 in /usr/local/lib/python3.6/dist-packages (from requests<3.0.0,>=2.13.0->spacy>=2.2.2->en_core_web_sm==2.2.5) (3.0.4)\n",
            "Requirement already satisfied: urllib3!=1.25.0,!=1.25.1,<1.26,>=1.21.1 in /usr/local/lib/python3.6/dist-packages (from requests<3.0.0,>=2.13.0->spacy>=2.2.2->en_core_web_sm==2.2.5) (1.24.3)\n",
            "Requirement already satisfied: idna<3,>=2.5 in /usr/local/lib/python3.6/dist-packages (from requests<3.0.0,>=2.13.0->spacy>=2.2.2->en_core_web_sm==2.2.5) (2.9)\n",
            "Requirement already satisfied: certifi>=2017.4.17 in /usr/local/lib/python3.6/dist-packages (from requests<3.0.0,>=2.13.0->spacy>=2.2.2->en_core_web_sm==2.2.5) (2020.4.5.2)\n",
            "Requirement already satisfied: importlib-metadata>=0.20; python_version < \"3.8\" in /usr/local/lib/python3.6/dist-packages (from catalogue<1.1.0,>=0.0.7->spacy>=2.2.2->en_core_web_sm==2.2.5) (1.6.1)\n",
            "Requirement already satisfied: zipp>=0.5 in /usr/local/lib/python3.6/dist-packages (from importlib-metadata>=0.20; python_version < \"3.8\"->catalogue<1.1.0,>=0.0.7->spacy>=2.2.2->en_core_web_sm==2.2.5) (3.1.0)\n",
            "\u001b[38;5;2m✔ Download and installation successful\u001b[0m\n",
            "You can now load the model via spacy.load('en_core_web_sm')\n"
          ],
          "name": "stdout"
        }
      ]
    },
    {
      "cell_type": "code",
      "metadata": {
        "id": "B2UglPp37jGW",
        "colab_type": "code",
        "colab": {}
      },
      "source": [
        "from spacy.tokenizer import Tokenizer\n",
        "\n",
        "nlp = spacy.load('en_core_web_sm')\n",
        "\n",
        "STOP_WORDS = nlp.Defaults.stop_words.union([\"of\"])\n",
        "text = str(df['medical'])\n",
        "\n",
        "doc = nlp(text)\n",
        "\n",
        "# Tokenizer\n",
        "tokenizer = Tokenizer(nlp.vocab)\n",
        "\n",
        "# Tokenizer Pipe\n",
        "tokens = []\n",
        "\n",
        "\"\"\"Make them tokens\"\"\"\n",
        "for doc in tokenizer.pipe(df['medical'], batch_size=500):\n",
        "\n",
        "  doc_tokens = []\n",
        "\n",
        "  for token in doc:\n",
        "    if token.text.lower() not in STOP_WORDS:\n",
        "      doc_tokens.append(token.text.lower())\n",
        "\n",
        "  tokens.append(doc_tokens)\n",
        "\n",
        "df['tokens'] = tokens"
      ],
      "execution_count": 23,
      "outputs": []
    },
    {
      "cell_type": "code",
      "metadata": {
        "id": "lHpYDfls_HOR",
        "colab_type": "code",
        "colab": {
          "base_uri": "https://localhost:8080/",
          "height": 34
        },
        "outputId": "49eacf83-eace-4cc9-d14b-dbbf7cd2a467"
      },
      "source": [
        "type(tokens)"
      ],
      "execution_count": 24,
      "outputs": [
        {
          "output_type": "execute_result",
          "data": {
            "text/plain": [
              "list"
            ]
          },
          "metadata": {
            "tags": []
          },
          "execution_count": 24
        }
      ]
    },
    {
      "cell_type": "code",
      "metadata": {
        "id": "BDRoNns_BTBW",
        "colab_type": "code",
        "colab": {
          "base_uri": "https://localhost:8080/",
          "height": 34
        },
        "outputId": "436e4dea-b944-49ca-c267-b53da278b43a"
      },
      "source": [
        "df['tokens'][0]"
      ],
      "execution_count": 25,
      "outputs": [
        {
          "output_type": "execute_result",
          "data": {
            "text/plain": [
              "['depression,', 'insomnia,', 'pain,', 'stress,', 'lack', 'appetite']"
            ]
          },
          "metadata": {
            "tags": []
          },
          "execution_count": 25
        }
      ]
    },
    {
      "cell_type": "markdown",
      "metadata": {
        "id": "_ZDInuUUAzEY",
        "colab_type": "text"
      },
      "source": [
        "### Get Word Counts for Medical Effects"
      ]
    },
    {
      "cell_type": "code",
      "metadata": {
        "id": "PGFCtHCWCGbm",
        "colab_type": "code",
        "colab": {
          "base_uri": "https://localhost:8080/",
          "height": 105
        },
        "outputId": "a9a718e5-7208-4501-fdd7-4963f64d52c0"
      },
      "source": [
        "!pip install squarify"
      ],
      "execution_count": 26,
      "outputs": [
        {
          "output_type": "stream",
          "text": [
            "Collecting squarify\n",
            "  Downloading https://files.pythonhosted.org/packages/0b/2b/2e77c35326efec19819cd1d729540d4d235e6c2a3f37658288a363a67da5/squarify-0.4.3-py3-none-any.whl\n",
            "Installing collected packages: squarify\n",
            "Successfully installed squarify-0.4.3\n"
          ],
          "name": "stdout"
        }
      ]
    },
    {
      "cell_type": "code",
      "metadata": {
        "id": "fM9TLC_BB4p_",
        "colab_type": "code",
        "colab": {}
      },
      "source": [
        "from collections import Counter\n",
        "import squarify\n",
        "\n",
        "def count(docs):\n",
        "    \"\"\"\n",
        "    Function which takes a corpus of document and returns a dataframe\n",
        "    of word counts to analyze.\n",
        "    \"\"\"\n",
        "\n",
        "    word_counts = Counter()\n",
        "    appears_in = Counter()\n",
        "\n",
        "    total_docs = len(docs)\n",
        "\n",
        "    for doc in docs:\n",
        "        word_counts.update(doc)\n",
        "        appears_in.update(set(doc))\n",
        "\n",
        "    temp = zip(word_counts.keys(), word_counts.values())\n",
        "\n",
        "    wc = pd.DataFrame(temp, columns = ['word', 'count'])\n",
        "\n",
        "    wc['rank'] = wc['count'].rank(method='first', ascending=False)\n",
        "    total = wc['count'].sum()\n",
        "\n",
        "    wc['pct_total'] = wc['count'].apply(lambda x: x / total)\n",
        "\n",
        "    wc = wc.sort_values(by='rank')\n",
        "    wc['cul_pct_total'] = wc['pct_total'].cumsum()\n",
        "\n",
        "    t2 = zip(appears_in.keys(), appears_in.values())\n",
        "    ac = pd.DataFrame(t2, columns=['word', 'appears_in'])\n",
        "    wc = ac.merge(wc, on='word')\n",
        "\n",
        "    wc['appears_in_pct'] = wc['appears_in'].apply(lambda x: x / total_docs)\n",
        "\n",
        "    return wc.sort_values(by='rank')"
      ],
      "execution_count": 27,
      "outputs": []
    },
    {
      "cell_type": "code",
      "metadata": {
        "id": "g44eM2q_B-Es",
        "colab_type": "code",
        "colab": {
          "base_uri": "https://localhost:8080/",
          "height": 252
        },
        "outputId": "647c23ac-4eaa-4661-f218-99a966d1a83d"
      },
      "source": [
        "import matplotlib.pyplot as plt\n",
        "\n",
        "wc = count(df['tokens'])\n",
        "\n",
        "wc_top20 = wc[wc['rank'] <= 30]\n",
        "\n",
        "squarify.plot(sizes=wc_top20['pct_total'], label=wc_top20['word'], alpha=.8 )\n",
        "plt.axis('off')\n",
        "plt.show()"
      ],
      "execution_count": 28,
      "outputs": [
        {
          "output_type": "display_data",
          "data": {
            "image/png": "[encoded data removed]",
            "text/plain": [
              "<Figure size 432x288 with 1 Axes>"
            ]
          },
          "metadata": {
            "tags": [],
            "needs_background": "light"
          }
        }
      ]
    },
    {
      "cell_type": "code",
      "metadata": {
        "id": "VEMzdEoKCq1n",
        "colab_type": "code",
        "colab": {
          "base_uri": "https://localhost:8080/",
          "height": 359
        },
        "outputId": "25706895-f8e4-4430-ddb9-f5c023a7d41b"
      },
      "source": [
        "wc.head(10)"
      ],
      "execution_count": 29,
      "outputs": [
        {
          "output_type": "execute_result",
          "data": {
            "text/html": [
              "<div>\n",
              "<style scoped>\n",
              "    .dataframe tbody tr th:only-of-type {\n",
              "        vertical-align: middle;\n",
              "    }\n",
              "\n",
              "    .dataframe tbody tr th {\n",
              "        vertical-align: top;\n",
              "    }\n",
              "\n",
              "    .dataframe thead th {\n",
              "        text-align: right;\n",
              "    }\n",
              "</style>\n",
              "<table border=\"1\" class=\"dataframe\">\n",
              "  <thead>\n",
              "    <tr style=\"text-align: right;\">\n",
              "      <th></th>\n",
              "      <th>word</th>\n",
              "      <th>appears_in</th>\n",
              "      <th>count</th>\n",
              "      <th>rank</th>\n",
              "      <th>pct_total</th>\n",
              "      <th>cul_pct_total</th>\n",
              "      <th>appears_in_pct</th>\n",
              "    </tr>\n",
              "  </thead>\n",
              "  <tbody>\n",
              "    <tr>\n",
              "      <th>5</th>\n",
              "      <td>stress,</td>\n",
              "      <td>1283</td>\n",
              "      <td>1283</td>\n",
              "      <td>1.0</td>\n",
              "      <td>0.153267</td>\n",
              "      <td>0.153267</td>\n",
              "      <td>0.876965</td>\n",
              "    </tr>\n",
              "    <tr>\n",
              "      <th>0</th>\n",
              "      <td>depression,</td>\n",
              "      <td>1209</td>\n",
              "      <td>1209</td>\n",
              "      <td>2.0</td>\n",
              "      <td>0.144427</td>\n",
              "      <td>0.297694</td>\n",
              "      <td>0.826384</td>\n",
              "    </tr>\n",
              "    <tr>\n",
              "      <th>1</th>\n",
              "      <td>pain,</td>\n",
              "      <td>1148</td>\n",
              "      <td>1148</td>\n",
              "      <td>3.0</td>\n",
              "      <td>0.137140</td>\n",
              "      <td>0.434835</td>\n",
              "      <td>0.784689</td>\n",
              "    </tr>\n",
              "    <tr>\n",
              "      <th>2</th>\n",
              "      <td>insomnia,</td>\n",
              "      <td>634</td>\n",
              "      <td>634</td>\n",
              "      <td>4.0</td>\n",
              "      <td>0.075738</td>\n",
              "      <td>0.510572</td>\n",
              "      <td>0.433356</td>\n",
              "    </tr>\n",
              "    <tr>\n",
              "      <th>4</th>\n",
              "      <td>lack</td>\n",
              "      <td>532</td>\n",
              "      <td>532</td>\n",
              "      <td>5.0</td>\n",
              "      <td>0.063553</td>\n",
              "      <td>0.574125</td>\n",
              "      <td>0.363636</td>\n",
              "    </tr>\n",
              "    <tr>\n",
              "      <th>8</th>\n",
              "      <td>appetite,</td>\n",
              "      <td>438</td>\n",
              "      <td>438</td>\n",
              "      <td>6.0</td>\n",
              "      <td>0.052323</td>\n",
              "      <td>0.626448</td>\n",
              "      <td>0.299385</td>\n",
              "    </tr>\n",
              "    <tr>\n",
              "      <th>15</th>\n",
              "      <td>headaches</td>\n",
              "      <td>328</td>\n",
              "      <td>328</td>\n",
              "      <td>7.0</td>\n",
              "      <td>0.039183</td>\n",
              "      <td>0.665631</td>\n",
              "      <td>0.224197</td>\n",
              "    </tr>\n",
              "    <tr>\n",
              "      <th>12</th>\n",
              "      <td>headache,</td>\n",
              "      <td>325</td>\n",
              "      <td>325</td>\n",
              "      <td>8.0</td>\n",
              "      <td>0.038825</td>\n",
              "      <td>0.704456</td>\n",
              "      <td>0.222146</td>\n",
              "    </tr>\n",
              "    <tr>\n",
              "      <th>10</th>\n",
              "      <td>fatigue,</td>\n",
              "      <td>298</td>\n",
              "      <td>298</td>\n",
              "      <td>9.0</td>\n",
              "      <td>0.035599</td>\n",
              "      <td>0.740055</td>\n",
              "      <td>0.203691</td>\n",
              "    </tr>\n",
              "    <tr>\n",
              "      <th>11</th>\n",
              "      <td>muscle</td>\n",
              "      <td>268</td>\n",
              "      <td>268</td>\n",
              "      <td>10.0</td>\n",
              "      <td>0.032015</td>\n",
              "      <td>0.772070</td>\n",
              "      <td>0.183185</td>\n",
              "    </tr>\n",
              "  </tbody>\n",
              "</table>\n",
              "</div>"
            ],
            "text/plain": [
              "           word  appears_in  count  ...  pct_total  cul_pct_total  appears_in_pct\n",
              "5       stress,        1283   1283  ...   0.153267       0.153267        0.876965\n",
              "0   depression,        1209   1209  ...   0.144427       0.297694        0.826384\n",
              "1         pain,        1148   1148  ...   0.137140       0.434835        0.784689\n",
              "2     insomnia,         634    634  ...   0.075738       0.510572        0.433356\n",
              "4          lack         532    532  ...   0.063553       0.574125        0.363636\n",
              "8     appetite,         438    438  ...   0.052323       0.626448        0.299385\n",
              "15    headaches         328    328  ...   0.039183       0.665631        0.224197\n",
              "12    headache,         325    325  ...   0.038825       0.704456        0.222146\n",
              "10     fatigue,         298    298  ...   0.035599       0.740055        0.203691\n",
              "11       muscle         268    268  ...   0.032015       0.772070        0.183185\n",
              "\n",
              "[10 rows x 7 columns]"
            ]
          },
          "metadata": {
            "tags": []
          },
          "execution_count": 29
        }
      ]
    },
    {
      "cell_type": "markdown",
      "metadata": {
        "id": "Ch1RPNbxDQUM",
        "colab_type": "text"
      },
      "source": [
        "### TF-IDF feature matrix"
      ]
    },
    {
      "cell_type": "code",
      "metadata": {
        "id": "qF8ZcMkaA3NS",
        "colab_type": "code",
        "colab": {
          "base_uri": "https://localhost:8080/",
          "height": 287
        },
        "outputId": "d3109968-6a00-463c-fcba-eeafb6c77dfc"
      },
      "source": [
        "from sklearn.feature_extraction.text import TfidfVectorizer\n",
        "\n",
        "\n",
        "# List of text documents\n",
        "data = list(df['medical'])\n",
        "\n",
        "# create the transformer\n",
        "tfidf = TfidfVectorizer(max_df=.95,\n",
        "                       min_df=2,\n",
        "                       ngram_range=(1,3),\n",
        "                       max_features=5000)\n",
        "\n",
        "# build vocab\n",
        "dtm = tfidf.fit_transform(data) #> Similar to fit_predict\n",
        "\n",
        "# Get feature names to use as dataframe column headers\n",
        "dtm = pd.DataFrame(dtm.todense(), columns=tfidf.get_feature_names())\n",
        "\n",
        "# View Feature Matrix as DataFrame\n",
        "dtm.head()"
      ],
      "execution_count": 30,
      "outputs": [
        {
          "output_type": "execute_result",
          "data": {
            "text/html": [
              "<div>\n",
              "<style scoped>\n",
              "    .dataframe tbody tr th:only-of-type {\n",
              "        vertical-align: middle;\n",
              "    }\n",
              "\n",
              "    .dataframe tbody tr th {\n",
              "        vertical-align: top;\n",
              "    }\n",
              "\n",
              "    .dataframe thead th {\n",
              "        text-align: right;\n",
              "    }\n",
              "</style>\n",
              "<table border=\"1\" class=\"dataframe\">\n",
              "  <thead>\n",
              "    <tr style=\"text-align: right;\">\n",
              "      <th></th>\n",
              "      <th>appetite</th>\n",
              "      <th>appetite eye</th>\n",
              "      <th>appetite eye pressure</th>\n",
              "      <th>appetite fatigue</th>\n",
              "      <th>appetite fatigue eye</th>\n",
              "      <th>appetite fatigue headaches</th>\n",
              "      <th>appetite fatigue inflammation</th>\n",
              "      <th>appetite fatigue muscle</th>\n",
              "      <th>appetite fatigue spasticity</th>\n",
              "      <th>appetite headache</th>\n",
              "      <th>appetite headache eye</th>\n",
              "      <th>appetite headache fatigue</th>\n",
              "      <th>appetite headache headaches</th>\n",
              "      <th>appetite headache inflammation</th>\n",
              "      <th>appetite headache muscle</th>\n",
              "      <th>appetite headaches</th>\n",
              "      <th>appetite headaches eye</th>\n",
              "      <th>appetite headaches inflammation</th>\n",
              "      <th>appetite headaches muscle</th>\n",
              "      <th>appetite inflammation</th>\n",
              "      <th>appetite inflammation muscle</th>\n",
              "      <th>appetite muscle</th>\n",
              "      <th>appetite muscle spasms</th>\n",
              "      <th>appetite nausea</th>\n",
              "      <th>appetite nausea eye</th>\n",
              "      <th>appetite nausea fatigue</th>\n",
              "      <th>appetite nausea headache</th>\n",
              "      <th>appetite nausea headaches</th>\n",
              "      <th>appetite nausea inflammation</th>\n",
              "      <th>appetite nausea muscle</th>\n",
              "      <th>appetite spasticity</th>\n",
              "      <th>cramps</th>\n",
              "      <th>cramps fatigue</th>\n",
              "      <th>cramps fatigue eye</th>\n",
              "      <th>cramps fatigue headaches</th>\n",
              "      <th>cramps headache</th>\n",
              "      <th>cramps headaches</th>\n",
              "      <th>cramps headaches eye</th>\n",
              "      <th>cramps headaches inflammation</th>\n",
              "      <th>cramps inflammation</th>\n",
              "      <th>...</th>\n",
              "      <th>stress cramps headaches</th>\n",
              "      <th>stress cramps inflammation</th>\n",
              "      <th>stress cramps lack</th>\n",
              "      <th>stress cramps muscle</th>\n",
              "      <th>stress cramps nausea</th>\n",
              "      <th>stress eye</th>\n",
              "      <th>stress eye pressure</th>\n",
              "      <th>stress fatigue</th>\n",
              "      <th>stress fatigue eye</th>\n",
              "      <th>stress fatigue headaches</th>\n",
              "      <th>stress fatigue inflammation</th>\n",
              "      <th>stress fatigue muscle</th>\n",
              "      <th>stress fatigue spasticity</th>\n",
              "      <th>stress headache</th>\n",
              "      <th>stress headache eye</th>\n",
              "      <th>stress headache fatigue</th>\n",
              "      <th>stress headache headaches</th>\n",
              "      <th>stress headache inflammation</th>\n",
              "      <th>stress headache muscle</th>\n",
              "      <th>stress headache spasticity</th>\n",
              "      <th>stress headaches</th>\n",
              "      <th>stress headaches eye</th>\n",
              "      <th>stress headaches inflammation</th>\n",
              "      <th>stress headaches muscle</th>\n",
              "      <th>stress inflammation</th>\n",
              "      <th>stress inflammation muscle</th>\n",
              "      <th>stress inflammation spasticity</th>\n",
              "      <th>stress lack</th>\n",
              "      <th>stress lack of</th>\n",
              "      <th>stress muscle</th>\n",
              "      <th>stress muscle spasms</th>\n",
              "      <th>stress nausea</th>\n",
              "      <th>stress nausea eye</th>\n",
              "      <th>stress nausea fatigue</th>\n",
              "      <th>stress nausea headache</th>\n",
              "      <th>stress nausea headaches</th>\n",
              "      <th>stress nausea inflammation</th>\n",
              "      <th>stress nausea muscle</th>\n",
              "      <th>stress seizures</th>\n",
              "      <th>stress spasticity</th>\n",
              "    </tr>\n",
              "  </thead>\n",
              "  <tbody>\n",
              "    <tr>\n",
              "      <th>0</th>\n",
              "      <td>0.245645</td>\n",
              "      <td>0.0</td>\n",
              "      <td>0.0</td>\n",
              "      <td>0.0</td>\n",
              "      <td>0.0</td>\n",
              "      <td>0.0</td>\n",
              "      <td>0.0</td>\n",
              "      <td>0.0</td>\n",
              "      <td>0.0</td>\n",
              "      <td>0.0</td>\n",
              "      <td>0.0</td>\n",
              "      <td>0.0</td>\n",
              "      <td>0.0</td>\n",
              "      <td>0.0</td>\n",
              "      <td>0.0</td>\n",
              "      <td>0.0</td>\n",
              "      <td>0.0</td>\n",
              "      <td>0.0</td>\n",
              "      <td>0.0</td>\n",
              "      <td>0.0</td>\n",
              "      <td>0.0</td>\n",
              "      <td>0.0</td>\n",
              "      <td>0.0</td>\n",
              "      <td>0.000000</td>\n",
              "      <td>0.0</td>\n",
              "      <td>0.0</td>\n",
              "      <td>0.000000</td>\n",
              "      <td>0.0</td>\n",
              "      <td>0.0</td>\n",
              "      <td>0.0</td>\n",
              "      <td>0.0</td>\n",
              "      <td>0.000000</td>\n",
              "      <td>0.0</td>\n",
              "      <td>0.0</td>\n",
              "      <td>0.0</td>\n",
              "      <td>0.000000</td>\n",
              "      <td>0.0</td>\n",
              "      <td>0.0</td>\n",
              "      <td>0.0</td>\n",
              "      <td>0.0</td>\n",
              "      <td>...</td>\n",
              "      <td>0.0</td>\n",
              "      <td>0.0</td>\n",
              "      <td>0.0</td>\n",
              "      <td>0.0</td>\n",
              "      <td>0.0</td>\n",
              "      <td>0.0</td>\n",
              "      <td>0.0</td>\n",
              "      <td>0.0</td>\n",
              "      <td>0.0</td>\n",
              "      <td>0.0</td>\n",
              "      <td>0.0</td>\n",
              "      <td>0.0</td>\n",
              "      <td>0.0</td>\n",
              "      <td>0.000000</td>\n",
              "      <td>0.0</td>\n",
              "      <td>0.000000</td>\n",
              "      <td>0.0</td>\n",
              "      <td>0.0</td>\n",
              "      <td>0.0</td>\n",
              "      <td>0.0</td>\n",
              "      <td>0.0</td>\n",
              "      <td>0.0</td>\n",
              "      <td>0.0</td>\n",
              "      <td>0.0</td>\n",
              "      <td>0.0</td>\n",
              "      <td>0.0</td>\n",
              "      <td>0.0</td>\n",
              "      <td>0.264710</td>\n",
              "      <td>0.264710</td>\n",
              "      <td>0.0</td>\n",
              "      <td>0.0</td>\n",
              "      <td>0.000000</td>\n",
              "      <td>0.0</td>\n",
              "      <td>0.0</td>\n",
              "      <td>0.000000</td>\n",
              "      <td>0.0</td>\n",
              "      <td>0.0</td>\n",
              "      <td>0.0</td>\n",
              "      <td>0.0</td>\n",
              "      <td>0.0</td>\n",
              "    </tr>\n",
              "    <tr>\n",
              "      <th>1</th>\n",
              "      <td>0.178396</td>\n",
              "      <td>0.0</td>\n",
              "      <td>0.0</td>\n",
              "      <td>0.0</td>\n",
              "      <td>0.0</td>\n",
              "      <td>0.0</td>\n",
              "      <td>0.0</td>\n",
              "      <td>0.0</td>\n",
              "      <td>0.0</td>\n",
              "      <td>0.0</td>\n",
              "      <td>0.0</td>\n",
              "      <td>0.0</td>\n",
              "      <td>0.0</td>\n",
              "      <td>0.0</td>\n",
              "      <td>0.0</td>\n",
              "      <td>0.0</td>\n",
              "      <td>0.0</td>\n",
              "      <td>0.0</td>\n",
              "      <td>0.0</td>\n",
              "      <td>0.0</td>\n",
              "      <td>0.0</td>\n",
              "      <td>0.0</td>\n",
              "      <td>0.0</td>\n",
              "      <td>0.330506</td>\n",
              "      <td>0.0</td>\n",
              "      <td>0.0</td>\n",
              "      <td>0.417541</td>\n",
              "      <td>0.0</td>\n",
              "      <td>0.0</td>\n",
              "      <td>0.0</td>\n",
              "      <td>0.0</td>\n",
              "      <td>0.000000</td>\n",
              "      <td>0.0</td>\n",
              "      <td>0.0</td>\n",
              "      <td>0.0</td>\n",
              "      <td>0.000000</td>\n",
              "      <td>0.0</td>\n",
              "      <td>0.0</td>\n",
              "      <td>0.0</td>\n",
              "      <td>0.0</td>\n",
              "      <td>...</td>\n",
              "      <td>0.0</td>\n",
              "      <td>0.0</td>\n",
              "      <td>0.0</td>\n",
              "      <td>0.0</td>\n",
              "      <td>0.0</td>\n",
              "      <td>0.0</td>\n",
              "      <td>0.0</td>\n",
              "      <td>0.0</td>\n",
              "      <td>0.0</td>\n",
              "      <td>0.0</td>\n",
              "      <td>0.0</td>\n",
              "      <td>0.0</td>\n",
              "      <td>0.0</td>\n",
              "      <td>0.000000</td>\n",
              "      <td>0.0</td>\n",
              "      <td>0.000000</td>\n",
              "      <td>0.0</td>\n",
              "      <td>0.0</td>\n",
              "      <td>0.0</td>\n",
              "      <td>0.0</td>\n",
              "      <td>0.0</td>\n",
              "      <td>0.0</td>\n",
              "      <td>0.0</td>\n",
              "      <td>0.0</td>\n",
              "      <td>0.0</td>\n",
              "      <td>0.0</td>\n",
              "      <td>0.0</td>\n",
              "      <td>0.192242</td>\n",
              "      <td>0.192242</td>\n",
              "      <td>0.0</td>\n",
              "      <td>0.0</td>\n",
              "      <td>0.000000</td>\n",
              "      <td>0.0</td>\n",
              "      <td>0.0</td>\n",
              "      <td>0.000000</td>\n",
              "      <td>0.0</td>\n",
              "      <td>0.0</td>\n",
              "      <td>0.0</td>\n",
              "      <td>0.0</td>\n",
              "      <td>0.0</td>\n",
              "    </tr>\n",
              "    <tr>\n",
              "      <th>2</th>\n",
              "      <td>0.000000</td>\n",
              "      <td>0.0</td>\n",
              "      <td>0.0</td>\n",
              "      <td>0.0</td>\n",
              "      <td>0.0</td>\n",
              "      <td>0.0</td>\n",
              "      <td>0.0</td>\n",
              "      <td>0.0</td>\n",
              "      <td>0.0</td>\n",
              "      <td>0.0</td>\n",
              "      <td>0.0</td>\n",
              "      <td>0.0</td>\n",
              "      <td>0.0</td>\n",
              "      <td>0.0</td>\n",
              "      <td>0.0</td>\n",
              "      <td>0.0</td>\n",
              "      <td>0.0</td>\n",
              "      <td>0.0</td>\n",
              "      <td>0.0</td>\n",
              "      <td>0.0</td>\n",
              "      <td>0.0</td>\n",
              "      <td>0.0</td>\n",
              "      <td>0.0</td>\n",
              "      <td>0.000000</td>\n",
              "      <td>0.0</td>\n",
              "      <td>0.0</td>\n",
              "      <td>0.000000</td>\n",
              "      <td>0.0</td>\n",
              "      <td>0.0</td>\n",
              "      <td>0.0</td>\n",
              "      <td>0.0</td>\n",
              "      <td>0.270812</td>\n",
              "      <td>0.0</td>\n",
              "      <td>0.0</td>\n",
              "      <td>0.0</td>\n",
              "      <td>0.524862</td>\n",
              "      <td>0.0</td>\n",
              "      <td>0.0</td>\n",
              "      <td>0.0</td>\n",
              "      <td>0.0</td>\n",
              "      <td>...</td>\n",
              "      <td>0.0</td>\n",
              "      <td>0.0</td>\n",
              "      <td>0.0</td>\n",
              "      <td>0.0</td>\n",
              "      <td>0.0</td>\n",
              "      <td>0.0</td>\n",
              "      <td>0.0</td>\n",
              "      <td>0.0</td>\n",
              "      <td>0.0</td>\n",
              "      <td>0.0</td>\n",
              "      <td>0.0</td>\n",
              "      <td>0.0</td>\n",
              "      <td>0.0</td>\n",
              "      <td>0.000000</td>\n",
              "      <td>0.0</td>\n",
              "      <td>0.000000</td>\n",
              "      <td>0.0</td>\n",
              "      <td>0.0</td>\n",
              "      <td>0.0</td>\n",
              "      <td>0.0</td>\n",
              "      <td>0.0</td>\n",
              "      <td>0.0</td>\n",
              "      <td>0.0</td>\n",
              "      <td>0.0</td>\n",
              "      <td>0.0</td>\n",
              "      <td>0.0</td>\n",
              "      <td>0.0</td>\n",
              "      <td>0.000000</td>\n",
              "      <td>0.000000</td>\n",
              "      <td>0.0</td>\n",
              "      <td>0.0</td>\n",
              "      <td>0.000000</td>\n",
              "      <td>0.0</td>\n",
              "      <td>0.0</td>\n",
              "      <td>0.000000</td>\n",
              "      <td>0.0</td>\n",
              "      <td>0.0</td>\n",
              "      <td>0.0</td>\n",
              "      <td>0.0</td>\n",
              "      <td>0.0</td>\n",
              "    </tr>\n",
              "    <tr>\n",
              "      <th>3</th>\n",
              "      <td>0.000000</td>\n",
              "      <td>0.0</td>\n",
              "      <td>0.0</td>\n",
              "      <td>0.0</td>\n",
              "      <td>0.0</td>\n",
              "      <td>0.0</td>\n",
              "      <td>0.0</td>\n",
              "      <td>0.0</td>\n",
              "      <td>0.0</td>\n",
              "      <td>0.0</td>\n",
              "      <td>0.0</td>\n",
              "      <td>0.0</td>\n",
              "      <td>0.0</td>\n",
              "      <td>0.0</td>\n",
              "      <td>0.0</td>\n",
              "      <td>0.0</td>\n",
              "      <td>0.0</td>\n",
              "      <td>0.0</td>\n",
              "      <td>0.0</td>\n",
              "      <td>0.0</td>\n",
              "      <td>0.0</td>\n",
              "      <td>0.0</td>\n",
              "      <td>0.0</td>\n",
              "      <td>0.000000</td>\n",
              "      <td>0.0</td>\n",
              "      <td>0.0</td>\n",
              "      <td>0.000000</td>\n",
              "      <td>0.0</td>\n",
              "      <td>0.0</td>\n",
              "      <td>0.0</td>\n",
              "      <td>0.0</td>\n",
              "      <td>0.000000</td>\n",
              "      <td>0.0</td>\n",
              "      <td>0.0</td>\n",
              "      <td>0.0</td>\n",
              "      <td>0.000000</td>\n",
              "      <td>0.0</td>\n",
              "      <td>0.0</td>\n",
              "      <td>0.0</td>\n",
              "      <td>0.0</td>\n",
              "      <td>...</td>\n",
              "      <td>0.0</td>\n",
              "      <td>0.0</td>\n",
              "      <td>0.0</td>\n",
              "      <td>0.0</td>\n",
              "      <td>0.0</td>\n",
              "      <td>0.0</td>\n",
              "      <td>0.0</td>\n",
              "      <td>0.0</td>\n",
              "      <td>0.0</td>\n",
              "      <td>0.0</td>\n",
              "      <td>0.0</td>\n",
              "      <td>0.0</td>\n",
              "      <td>0.0</td>\n",
              "      <td>0.217233</td>\n",
              "      <td>0.0</td>\n",
              "      <td>0.274628</td>\n",
              "      <td>0.0</td>\n",
              "      <td>0.0</td>\n",
              "      <td>0.0</td>\n",
              "      <td>0.0</td>\n",
              "      <td>0.0</td>\n",
              "      <td>0.0</td>\n",
              "      <td>0.0</td>\n",
              "      <td>0.0</td>\n",
              "      <td>0.0</td>\n",
              "      <td>0.0</td>\n",
              "      <td>0.0</td>\n",
              "      <td>0.000000</td>\n",
              "      <td>0.000000</td>\n",
              "      <td>0.0</td>\n",
              "      <td>0.0</td>\n",
              "      <td>0.000000</td>\n",
              "      <td>0.0</td>\n",
              "      <td>0.0</td>\n",
              "      <td>0.000000</td>\n",
              "      <td>0.0</td>\n",
              "      <td>0.0</td>\n",
              "      <td>0.0</td>\n",
              "      <td>0.0</td>\n",
              "      <td>0.0</td>\n",
              "    </tr>\n",
              "    <tr>\n",
              "      <th>4</th>\n",
              "      <td>0.000000</td>\n",
              "      <td>0.0</td>\n",
              "      <td>0.0</td>\n",
              "      <td>0.0</td>\n",
              "      <td>0.0</td>\n",
              "      <td>0.0</td>\n",
              "      <td>0.0</td>\n",
              "      <td>0.0</td>\n",
              "      <td>0.0</td>\n",
              "      <td>0.0</td>\n",
              "      <td>0.0</td>\n",
              "      <td>0.0</td>\n",
              "      <td>0.0</td>\n",
              "      <td>0.0</td>\n",
              "      <td>0.0</td>\n",
              "      <td>0.0</td>\n",
              "      <td>0.0</td>\n",
              "      <td>0.0</td>\n",
              "      <td>0.0</td>\n",
              "      <td>0.0</td>\n",
              "      <td>0.0</td>\n",
              "      <td>0.0</td>\n",
              "      <td>0.0</td>\n",
              "      <td>0.000000</td>\n",
              "      <td>0.0</td>\n",
              "      <td>0.0</td>\n",
              "      <td>0.000000</td>\n",
              "      <td>0.0</td>\n",
              "      <td>0.0</td>\n",
              "      <td>0.0</td>\n",
              "      <td>0.0</td>\n",
              "      <td>0.000000</td>\n",
              "      <td>0.0</td>\n",
              "      <td>0.0</td>\n",
              "      <td>0.0</td>\n",
              "      <td>0.000000</td>\n",
              "      <td>0.0</td>\n",
              "      <td>0.0</td>\n",
              "      <td>0.0</td>\n",
              "      <td>0.0</td>\n",
              "      <td>...</td>\n",
              "      <td>0.0</td>\n",
              "      <td>0.0</td>\n",
              "      <td>0.0</td>\n",
              "      <td>0.0</td>\n",
              "      <td>0.0</td>\n",
              "      <td>0.0</td>\n",
              "      <td>0.0</td>\n",
              "      <td>0.0</td>\n",
              "      <td>0.0</td>\n",
              "      <td>0.0</td>\n",
              "      <td>0.0</td>\n",
              "      <td>0.0</td>\n",
              "      <td>0.0</td>\n",
              "      <td>0.000000</td>\n",
              "      <td>0.0</td>\n",
              "      <td>0.000000</td>\n",
              "      <td>0.0</td>\n",
              "      <td>0.0</td>\n",
              "      <td>0.0</td>\n",
              "      <td>0.0</td>\n",
              "      <td>0.0</td>\n",
              "      <td>0.0</td>\n",
              "      <td>0.0</td>\n",
              "      <td>0.0</td>\n",
              "      <td>0.0</td>\n",
              "      <td>0.0</td>\n",
              "      <td>0.0</td>\n",
              "      <td>0.000000</td>\n",
              "      <td>0.000000</td>\n",
              "      <td>0.0</td>\n",
              "      <td>0.0</td>\n",
              "      <td>0.281438</td>\n",
              "      <td>0.0</td>\n",
              "      <td>0.0</td>\n",
              "      <td>0.359183</td>\n",
              "      <td>0.0</td>\n",
              "      <td>0.0</td>\n",
              "      <td>0.0</td>\n",
              "      <td>0.0</td>\n",
              "      <td>0.0</td>\n",
              "    </tr>\n",
              "  </tbody>\n",
              "</table>\n",
              "<p>5 rows × 276 columns</p>\n",
              "</div>"
            ],
            "text/plain": [
              "   appetite  appetite eye  ...  stress seizures  stress spasticity\n",
              "0  0.245645           0.0  ...              0.0                0.0\n",
              "1  0.178396           0.0  ...              0.0                0.0\n",
              "2  0.000000           0.0  ...              0.0                0.0\n",
              "3  0.000000           0.0  ...              0.0                0.0\n",
              "4  0.000000           0.0  ...              0.0                0.0\n",
              "\n",
              "[5 rows x 276 columns]"
            ]
          },
          "metadata": {
            "tags": []
          },
          "execution_count": 30
        }
      ]
    },
    {
      "cell_type": "markdown",
      "metadata": {
        "id": "OoiK4Y0xE36F",
        "colab_type": "text"
      },
      "source": [
        "### Create NearestNeighbor Model"
      ]
    },
    {
      "cell_type": "code",
      "metadata": {
        "id": "YNsZDgY7OPEX",
        "colab_type": "code",
        "colab": {
          "base_uri": "https://localhost:8080/",
          "height": 293
        },
        "outputId": "c89ddda3-076f-4806-de99-9905e363e668"
      },
      "source": [
        "!pip install --user --upgrade scikit-learn==0.23.1"
      ],
      "execution_count": 31,
      "outputs": [
        {
          "output_type": "stream",
          "text": [
            "Collecting scikit-learn==0.23.1\n",
            "\u001b[?25l  Downloading https://files.pythonhosted.org/packages/d9/3a/eb8d7bbe28f4787d140bb9df685b7d5bf6115c0e2a969def4027144e98b6/scikit_learn-0.23.1-cp36-cp36m-manylinux1_x86_64.whl (6.8MB)\n",
            "\u001b[K     |████████████████████████████████| 6.9MB 2.8MB/s \n",
            "\u001b[?25hCollecting threadpoolctl>=2.0.0\n",
            "  Downloading https://files.pythonhosted.org/packages/f7/12/ec3f2e203afa394a149911729357aa48affc59c20e2c1c8297a60f33f133/threadpoolctl-2.1.0-py3-none-any.whl\n",
            "Requirement already satisfied, skipping upgrade: numpy>=1.13.3 in /usr/local/lib/python3.6/dist-packages (from scikit-learn==0.23.1) (1.18.5)\n",
            "Requirement already satisfied, skipping upgrade: joblib>=0.11 in /usr/local/lib/python3.6/dist-packages (from scikit-learn==0.23.1) (0.15.1)\n",
            "Requirement already satisfied, skipping upgrade: scipy>=0.19.1 in /usr/local/lib/python3.6/dist-packages (from scikit-learn==0.23.1) (1.4.1)\n",
            "Installing collected packages: threadpoolctl, scikit-learn\n",
            "Successfully installed scikit-learn-0.23.1 threadpoolctl-2.1.0\n"
          ],
          "name": "stdout"
        },
        {
          "output_type": "display_data",
          "data": {
            "application/vnd.colab-display-data+json": {
              "pip_warning": {
                "packages": [
                  "sklearn"
                ]
              }
            }
          },
          "metadata": {
            "tags": []
          }
        }
      ]
    },
    {
      "cell_type": "code",
      "metadata": {
        "id": "DR3Fy2GL-VTh",
        "colab_type": "code",
        "colab": {
          "base_uri": "https://localhost:8080/",
          "height": 68
        },
        "outputId": "fbfad88f-554b-40bb-f69b-7d23b50cff8d"
      },
      "source": [
        "from sklearn.neighbors import NearestNeighbors\n",
        "\n",
        "# Fit on DTM\n",
        "nn = NearestNeighbors(n_neighbors=5, algorithm='ball_tree')\n",
        "nn.fit(dtm)"
      ],
      "execution_count": 32,
      "outputs": [
        {
          "output_type": "execute_result",
          "data": {
            "text/plain": [
              "NearestNeighbors(algorithm='ball_tree', leaf_size=30, metric='minkowski',\n",
              "                 metric_params=None, n_jobs=None, n_neighbors=5, p=2,\n",
              "                 radius=1.0)"
            ]
          },
          "metadata": {
            "tags": []
          },
          "execution_count": 32
        }
      ]
    },
    {
      "cell_type": "code",
      "metadata": {
        "id": "KtCSsfgWE-OW",
        "colab_type": "code",
        "colab": {
          "base_uri": "https://localhost:8080/",
          "height": 34
        },
        "outputId": "71028cd2-5f67-4320-fabe-ce0c9ad4ac40"
      },
      "source": [
        "len(data)"
      ],
      "execution_count": 33,
      "outputs": [
        {
          "output_type": "execute_result",
          "data": {
            "text/plain": [
              "1463"
            ]
          },
          "metadata": {
            "tags": []
          },
          "execution_count": 33
        }
      ]
    },
    {
      "cell_type": "code",
      "metadata": {
        "id": "DpSIzx8fFhi7",
        "colab_type": "code",
        "colab": {
          "base_uri": "https://localhost:8080/",
          "height": 34
        },
        "outputId": "d6080018-c1d9-457b-deca-1fd6133e7025"
      },
      "source": [
        "df.shape"
      ],
      "execution_count": 34,
      "outputs": [
        {
          "output_type": "execute_result",
          "data": {
            "text/plain": [
              "(1463, 9)"
            ]
          },
          "metadata": {
            "tags": []
          },
          "execution_count": 34
        }
      ]
    },
    {
      "cell_type": "code",
      "metadata": {
        "id": "zXyu-cNPFtsx",
        "colab_type": "code",
        "colab": {
          "base_uri": "https://localhost:8080/",
          "height": 34
        },
        "outputId": "9e595936-7e98-4bfe-f8f1-626d23960b59"
      },
      "source": [
        "data[400]"
      ],
      "execution_count": 35,
      "outputs": [
        {
          "output_type": "execute_result",
          "data": {
            "text/plain": [
              "'Depression, Pain, Nausea, Eye Pressure, Inflammation'"
            ]
          },
          "metadata": {
            "tags": []
          },
          "execution_count": 35
        }
      ]
    },
    {
      "cell_type": "code",
      "metadata": {
        "id": "Lf_9jst4GPIA",
        "colab_type": "code",
        "colab": {
          "base_uri": "https://localhost:8080/",
          "height": 51
        },
        "outputId": "fe8ea6bc-e268-4fd0-ee94-4b6a3401f3a9"
      },
      "source": [
        "## Test NN model\n",
        "\n",
        "symptoms = [\"Tired, Sleepy, Stress, Pain\"]\n",
        "\n",
        "# Query for symptoms\n",
        "new = tfidf.transform(symptoms)\n",
        "\n",
        "nn.kneighbors(new.todense())"
      ],
      "execution_count": 36,
      "outputs": [
        {
          "output_type": "execute_result",
          "data": {
            "text/plain": [
              "(array([[0.65826206, 0.65826206, 0.65826206, 0.71240078, 0.81771129]]),\n",
              " array([[1403,  358,  490,  729,  494]]))"
            ]
          },
          "metadata": {
            "tags": []
          },
          "execution_count": 36
        }
      ]
    },
    {
      "cell_type": "code",
      "metadata": {
        "id": "oWlXqOhgGp4S",
        "colab_type": "code",
        "colab": {
          "base_uri": "https://localhost:8080/",
          "height": 34
        },
        "outputId": "94d64e32-3b20-4e4b-da0d-9001cc7653cd"
      },
      "source": [
        "data[1403]"
      ],
      "execution_count": 37,
      "outputs": [
        {
          "output_type": "execute_result",
          "data": {
            "text/plain": [
              "'Pain, Stress'"
            ]
          },
          "metadata": {
            "tags": []
          },
          "execution_count": 37
        }
      ]
    },
    {
      "cell_type": "code",
      "metadata": {
        "id": "3yY4GkhCIU7P",
        "colab_type": "code",
        "colab": {
          "base_uri": "https://localhost:8080/",
          "height": 187
        },
        "outputId": "1232a5ea-3964-4032-b4d4-1a2f80af9cde"
      },
      "source": [
        "df.iloc[1403]"
      ],
      "execution_count": 38,
      "outputs": [
        {
          "output_type": "execute_result",
          "data": {
            "text/plain": [
              "strain                         West Coast Dawg\n",
              "id                                        2076\n",
              "flavors                 Sweet, Tropical, Woody\n",
              "positive    Relaxed, Euphoric, Sleepy, Aroused\n",
              "medical                           Pain, Stress\n",
              "Type                                    indica\n",
              "Rating                                     4.8\n",
              "Flavor                       Sweet,Woody,Nutty\n",
              "tokens                         [pain,, stress]\n",
              "Name: 1433, dtype: object"
            ]
          },
          "metadata": {
            "tags": []
          },
          "execution_count": 38
        }
      ]
    },
    {
      "cell_type": "markdown",
      "metadata": {
        "id": "zR45oxdxNrOR",
        "colab_type": "text"
      },
      "source": [
        "### Work on function / output"
      ]
    },
    {
      "cell_type": "code",
      "metadata": {
        "id": "60aKFRRlMZC3",
        "colab_type": "code",
        "colab": {}
      },
      "source": [
        "def hello_neighbor():\n",
        "\n",
        "  # Get user provided string\n",
        "  x = input()\n",
        "\n",
        "  # Query for symptoms\n",
        "  new = tfidf.transform(symptoms)\n",
        "\n",
        "  # Run model\n",
        "  result = nn.kneighbors(new.todense())\n",
        "\n",
        "\n",
        "  return result"
      ],
      "execution_count": 39,
      "outputs": []
    },
    {
      "cell_type": "code",
      "metadata": {
        "id": "BrfVQFVkNEbl",
        "colab_type": "code",
        "colab": {}
      },
      "source": [
        "symptoms = [\"Tired, Sleepy, Stress, Pain\"]\n",
        "\n",
        "# Query for symptoms\n",
        "new = tfidf.transform(symptoms)\n",
        "\n",
        "result = nn.kneighbors(new.todense())"
      ],
      "execution_count": 40,
      "outputs": []
    },
    {
      "cell_type": "code",
      "metadata": {
        "id": "mnxZzB3ONyBT",
        "colab_type": "code",
        "colab": {
          "base_uri": "https://localhost:8080/",
          "height": 34
        },
        "outputId": "71fb5560-bba0-48de-dbd0-95fc43651079"
      },
      "source": [
        "len(result)"
      ],
      "execution_count": 41,
      "outputs": [
        {
          "output_type": "execute_result",
          "data": {
            "text/plain": [
              "2"
            ]
          },
          "metadata": {
            "tags": []
          },
          "execution_count": 41
        }
      ]
    },
    {
      "cell_type": "code",
      "metadata": {
        "id": "loimMll6N1z5",
        "colab_type": "code",
        "colab": {
          "base_uri": "https://localhost:8080/",
          "height": 34
        },
        "outputId": "d68a0b25-1f5b-4e1d-8d2c-fe40649e47f6"
      },
      "source": [
        "type(result)"
      ],
      "execution_count": 42,
      "outputs": [
        {
          "output_type": "execute_result",
          "data": {
            "text/plain": [
              "tuple"
            ]
          },
          "metadata": {
            "tags": []
          },
          "execution_count": 42
        }
      ]
    },
    {
      "cell_type": "code",
      "metadata": {
        "id": "w0hYznFEOXcu",
        "colab_type": "code",
        "colab": {
          "base_uri": "https://localhost:8080/",
          "height": 51
        },
        "outputId": "c98484d8-053f-4229-a626-be30cbe48409"
      },
      "source": [
        "result"
      ],
      "execution_count": 43,
      "outputs": [
        {
          "output_type": "execute_result",
          "data": {
            "text/plain": [
              "(array([[0.65826206, 0.65826206, 0.65826206, 0.71240078, 0.81771129]]),\n",
              " array([[1403,  358,  490,  729,  494]]))"
            ]
          },
          "metadata": {
            "tags": []
          },
          "execution_count": 43
        }
      ]
    },
    {
      "cell_type": "code",
      "metadata": {
        "id": "oBt9BUZaOZYH",
        "colab_type": "code",
        "colab": {
          "base_uri": "https://localhost:8080/",
          "height": 34
        },
        "outputId": "0b9970dc-4de5-4fc7-b45b-00f30bc511ee"
      },
      "source": [
        "result[0]"
      ],
      "execution_count": 44,
      "outputs": [
        {
          "output_type": "execute_result",
          "data": {
            "text/plain": [
              "array([[0.65826206, 0.65826206, 0.65826206, 0.71240078, 0.81771129]])"
            ]
          },
          "metadata": {
            "tags": []
          },
          "execution_count": 44
        }
      ]
    },
    {
      "cell_type": "code",
      "metadata": {
        "id": "tfiQx5MfObHh",
        "colab_type": "code",
        "colab": {
          "base_uri": "https://localhost:8080/",
          "height": 34
        },
        "outputId": "cd6c7a56-bb3d-4ed0-eac4-43c0bad902af"
      },
      "source": [
        "result[1]"
      ],
      "execution_count": 45,
      "outputs": [
        {
          "output_type": "execute_result",
          "data": {
            "text/plain": [
              "array([[1403,  358,  490,  729,  494]])"
            ]
          },
          "metadata": {
            "tags": []
          },
          "execution_count": 45
        }
      ]
    },
    {
      "cell_type": "code",
      "metadata": {
        "id": "QpxfE0HJOc2C",
        "colab_type": "code",
        "colab": {
          "base_uri": "https://localhost:8080/",
          "height": 34
        },
        "outputId": "6760091f-164d-436b-87c0-43b04dee8348"
      },
      "source": [
        "result[1][0][0]"
      ],
      "execution_count": 46,
      "outputs": [
        {
          "output_type": "execute_result",
          "data": {
            "text/plain": [
              "1403"
            ]
          },
          "metadata": {
            "tags": []
          },
          "execution_count": 46
        }
      ]
    },
    {
      "cell_type": "code",
      "metadata": {
        "id": "LKlrL53OUQXp",
        "colab_type": "code",
        "colab": {
          "base_uri": "https://localhost:8080/",
          "height": 34
        },
        "outputId": "cac27e2d-b4aa-4a6a-b40d-ea97334ed2d6"
      },
      "source": [
        "result[1][0]"
      ],
      "execution_count": 52,
      "outputs": [
        {
          "output_type": "execute_result",
          "data": {
            "text/plain": [
              "array([1403,  358,  490,  729,  494])"
            ]
          },
          "metadata": {
            "tags": []
          },
          "execution_count": 52
        }
      ]
    },
    {
      "cell_type": "code",
      "metadata": {
        "id": "-ej7XtMzN3cZ",
        "colab_type": "code",
        "colab": {
          "base_uri": "https://localhost:8080/",
          "height": 34
        },
        "outputId": "daa8b185-8324-4662-fa1e-030702092cf3"
      },
      "source": [
        "sorted(result[1])[0][0]"
      ],
      "execution_count": 47,
      "outputs": [
        {
          "output_type": "execute_result",
          "data": {
            "text/plain": [
              "1403"
            ]
          },
          "metadata": {
            "tags": []
          },
          "execution_count": 47
        }
      ]
    },
    {
      "cell_type": "code",
      "metadata": {
        "id": "hiAQTRgFOTT3",
        "colab_type": "code",
        "colab": {
          "base_uri": "https://localhost:8080/",
          "height": 187
        },
        "outputId": "1c14e2d6-cf4d-44d2-c6da-42999c9c9103"
      },
      "source": [
        "num = result[1][0][0]\n",
        "\n",
        "info = df.iloc[num]\n",
        "\n",
        "print(info)"
      ],
      "execution_count": 48,
      "outputs": [
        {
          "output_type": "stream",
          "text": [
            "strain                         West Coast Dawg\n",
            "id                                        2076\n",
            "flavors                 Sweet, Tropical, Woody\n",
            "positive    Relaxed, Euphoric, Sleepy, Aroused\n",
            "medical                           Pain, Stress\n",
            "Type                                    indica\n",
            "Rating                                     4.8\n",
            "Flavor                       Sweet,Woody,Nutty\n",
            "tokens                         [pain,, stress]\n",
            "Name: 1433, dtype: object\n"
          ],
          "name": "stdout"
        }
      ]
    },
    {
      "cell_type": "markdown",
      "metadata": {
        "id": "AbGKAF9xO1pf",
        "colab_type": "text"
      },
      "source": [
        "#### Incorporate details of strain in model predict function"
      ]
    },
    {
      "cell_type": "code",
      "metadata": {
        "id": "xnryYHLcOyvN",
        "colab_type": "code",
        "colab": {}
      },
      "source": [
        "def hello_neighbor():\n",
        "\n",
        "  # Get user provided string\n",
        "  x = input() #> this will take-in input from a route\n",
        "\n",
        "  # Query for symptoms\n",
        "  new = tfidf.transform([x])\n",
        "\n",
        "  # Run model\n",
        "  result = nn.kneighbors(new.todense())\n",
        "\n",
        "  # Get index location of recommended strain\n",
        "  num = result[1][0][0]\n",
        "\n",
        "  # Include all details of strain except Flavor, tokens, data\n",
        "  info = df.iloc[num][:7] #> could swap this to database query\n",
        "\n",
        "  # Possibly grab top 5, loop them and grab their info\n",
        "\n",
        "  return \"Your Recommended Strain:\", info"
      ],
      "execution_count": 49,
      "outputs": []
    },
    {
      "cell_type": "code",
      "metadata": {
        "id": "IFDfXwKMPIio",
        "colab_type": "code",
        "colab": {
          "base_uri": "https://localhost:8080/",
          "height": 187
        },
        "outputId": "986990cb-c51a-41c5-8598-5438d8d2b4e2"
      },
      "source": [
        "hello_neighbor()"
      ],
      "execution_count": 50,
      "outputs": [
        {
          "output_type": "stream",
          "text": [
            "hungry, tired, sad\n"
          ],
          "name": "stdout"
        },
        {
          "output_type": "execute_result",
          "data": {
            "text/plain": [
              "('Your Recommended Strain:',\n",
              " strain                                         King Cake\n",
              " id                                                  1167\n",
              " flavors                           Sweet, Vanilla, Citrus\n",
              " positive    Relaxed, Euphoric, Happy, Creative, Uplifted\n",
              " medical           Stress, Lack of Appetite, Eye Pressure\n",
              " Type                                              hybrid\n",
              " Rating                                               4.8\n",
              " Name: 798, dtype: object)"
            ]
          },
          "metadata": {
            "tags": []
          },
          "execution_count": 50
        }
      ]
    },
    {
      "cell_type": "code",
      "metadata": {
        "id": "G4AOWORMS5tu",
        "colab_type": "code",
        "colab": {
          "base_uri": "https://localhost:8080/",
          "height": 170
        },
        "outputId": "56d3d38a-aba8-4c37-901b-16857194d318"
      },
      "source": [
        "hello_neighbor()"
      ],
      "execution_count": 51,
      "outputs": [
        {
          "output_type": "stream",
          "text": [
            "swollen, spasms, aches\n"
          ],
          "name": "stdout"
        },
        {
          "output_type": "execute_result",
          "data": {
            "text/plain": [
              "('Your Recommended Strain:', strain                              Mission Kush\n",
              " id                                          1370\n",
              " flavors                                     Pine\n",
              " positive    Euphoric, Happy, Creative, Energetic\n",
              " medical                            Muscle Spasms\n",
              " Type                                      hybrid\n",
              " Rating                                         4\n",
              " Name: 934, dtype: object)"
            ]
          },
          "metadata": {
            "tags": []
          },
          "execution_count": 51
        }
      ]
    },
    {
      "cell_type": "code",
      "metadata": {
        "id": "lKURE-Rd94IP",
        "colab_type": "code",
        "colab": {
          "base_uri": "https://localhost:8080/",
          "height": 153
        },
        "outputId": "e515f86a-dced-42fe-bbf7-ab6c5bb2f4fa"
      },
      "source": [
        "df.iloc[100][:7]"
      ],
      "execution_count": 52,
      "outputs": [
        {
          "output_type": "execute_result",
          "data": {
            "text/plain": [
              "strain                                  Big Holy Nina\n",
              "id                                                247\n",
              "flavors                        Earthy, Pungent, Woody\n",
              "positive         Euphoric, Happy, Talkative, Uplifted\n",
              "medical     Stress, Lack of Appetite, Nausea, Fatigue\n",
              "Type                                           hybrid\n",
              "Rating                                              4\n",
              "Name: 102, dtype: object"
            ]
          },
          "metadata": {
            "tags": []
          },
          "execution_count": 52
        }
      ]
    },
    {
      "cell_type": "markdown",
      "metadata": {
        "id": "lY0sRoI1KdB9",
        "colab_type": "text"
      },
      "source": [
        "### Pickle Model"
      ]
    },
    {
      "cell_type": "code",
      "metadata": {
        "id": "z8sS06JNUnw8",
        "colab_type": "code",
        "colab": {}
      },
      "source": [
        "# Pickle (trained) model here\n",
        "# Dont use model.dump use model.save instead\n",
        "\n",
        "import pickle\n",
        "\n",
        "# Save the trained model as a pickle string\n",
        "saved_model = pickle.dumps(nn)\n",
        "\n",
        "# Load the pickled model\n",
        "nn_from_pickle = pickle.loads(saved_model)"
      ],
      "execution_count": 53,
      "outputs": []
    },
    {
      "cell_type": "code",
      "metadata": {
        "id": "Wj940X26Cjox",
        "colab_type": "code",
        "colab": {}
      },
      "source": [
        "# Pickle model with filepath for export\n",
        "MODEL_FILEPATH = \"/pickling/medcab_model2.pkl\"\n",
        "\n",
        "with open(MODEL_FILEPATH, \"wb\") as model_file:\n",
        "  pickle.dump(nn, model_file)"
      ],
      "execution_count": 56,
      "outputs": []
    },
    {
      "cell_type": "code",
      "metadata": {
        "id": "CT7kazgcNTnP",
        "colab_type": "code",
        "colab": {
          "base_uri": "https://localhost:8080/",
          "height": 34
        },
        "outputId": "deee26bd-be21-4a4f-a25a-8cfc08f65ddc"
      },
      "source": [
        "import sklearn\n",
        "sklearn.__version__\n",
        "# Updated version after initially loading in pickled model to local env\n",
        "# and getting warning regarding loading a pickled model from different sklearn\n",
        "# version than my environment "
      ],
      "execution_count": 55,
      "outputs": [
        {
          "output_type": "execute_result",
          "data": {
            "text/plain": [
              "'0.23.1'"
            ]
          },
          "metadata": {
            "tags": []
          },
          "execution_count": 55
        }
      ]
    },
    {
      "cell_type": "code",
      "metadata": {
        "id": "cS3aH30rORgz",
        "colab_type": "code",
        "colab": {}
      },
      "source": [
        ""
      ],
      "execution_count": null,
      "outputs": []
    },
    {
      "cell_type": "markdown",
      "metadata": {
        "id": "Pj7OG50UCnEc",
        "colab_type": "text"
      },
      "source": [
        "### Pickled model test"
      ]
    },
    {
      "cell_type": "code",
      "metadata": {
        "id": "Fqj0JIoeCog_",
        "colab_type": "code",
        "colab": {}
      },
      "source": [
        "def hello_pickle():\n",
        "\n",
        "  # Get user provided string\n",
        "  x = input() #> this will take-in input from a route\n",
        "\n",
        "  # Query for symptoms\n",
        "  new = tfidf.transform([x])\n",
        "\n",
        "  # Run model\n",
        "  result = nn_from_pickle.kneighbors(new.todense())\n",
        "\n",
        "  # Get index location of recommended strain\n",
        "  num = result[1][0][0]\n",
        "\n",
        "  # Include all details of strain except Flavor, tokens, data\n",
        "  info = df.iloc[num][:7] #> could swap this to database query\n",
        "\n",
        "  # Possibly grab top 5, loop them and grab their info\n",
        "\n",
        "  return \"Your Recommended Strain:\", info"
      ],
      "execution_count": 70,
      "outputs": []
    },
    {
      "cell_type": "code",
      "metadata": {
        "id": "BOJBhLpdCvap",
        "colab_type": "code",
        "colab": {
          "base_uri": "https://localhost:8080/",
          "height": 170
        },
        "outputId": "7c2cb8f5-d1bd-4d7c-ed8e-14b4f0dfd6e8"
      },
      "source": [
        "hello_pickle()"
      ],
      "execution_count": 71,
      "outputs": [
        {
          "output_type": "stream",
          "text": [
            "spasms\n"
          ],
          "name": "stdout"
        },
        {
          "output_type": "execute_result",
          "data": {
            "text/plain": [
              "('Your Recommended Strain:', strain                              Mission Kush\n",
              " id                                          1370\n",
              " flavors                                     Pine\n",
              " positive    Euphoric, Happy, Creative, Energetic\n",
              " medical                            Muscle Spasms\n",
              " Type                                      hybrid\n",
              " Rating                                         4\n",
              " Name: 934, dtype: object)"
            ]
          },
          "metadata": {
            "tags": []
          },
          "execution_count": 71
        }
      ]
    },
    {
      "cell_type": "code",
      "metadata": {
        "id": "mu8agRDyWyu2",
        "colab_type": "code",
        "colab": {}
      },
      "source": [
        "def hello_new_pickle():\n",
        "\n",
        "  # Get user provided string\n",
        "  x = input() #> this will take-in input from a route\n",
        "\n",
        "  # Query for symptoms\n",
        "  new = tfidf.transform([x])\n",
        "\n",
        "  # Run model\n",
        "  result = nn.kneighbors(new.todense())\n",
        "\n",
        "  # Get index location of recommended strain\n",
        "  # num = result[1][0][0]\n",
        "\n",
        "  summary = []\n",
        "  for r in result[1][0]:\n",
        "    info = df.iloc[r][:7]\n",
        "    summary.append(info)\n",
        "\n",
        "  # Possibly grab top 5, loop them and grab their info\n",
        "\n",
        "  return \"Your Recommended Strain:\", summary"
      ],
      "execution_count": 60,
      "outputs": []
    },
    {
      "cell_type": "code",
      "metadata": {
        "id": "0wb6-9cyUXbC",
        "colab_type": "code",
        "colab": {}
      },
      "source": [
        "locs = []\n",
        "for r in result[1][0]:\n",
        "  info = df.iloc[r][:7]\n",
        "  locs.append(info)\n",
        "\n",
        "locs"
      ],
      "execution_count": 55,
      "outputs": []
    },
    {
      "cell_type": "code",
      "metadata": {
        "id": "xCFK6Wd6CxD2",
        "colab_type": "code",
        "colab": {
          "base_uri": "https://localhost:8080/",
          "height": 646
        },
        "outputId": "1b2cab56-95b7-43a0-a361-ce256bac52dc"
      },
      "source": [
        "hello_new_pickle()"
      ],
      "execution_count": 61,
      "outputs": [
        {
          "output_type": "stream",
          "text": [
            "insomnia, pressure, anxiety\n"
          ],
          "name": "stdout"
        },
        {
          "output_type": "execute_result",
          "data": {
            "text/plain": [
              "('Your Recommended Strain:', [strain                    The Sheriff\n",
              "  id                               1974\n",
              "  flavors                 Earthy, Woody\n",
              "  positive    Relaxed, Uplifted, Sleepy\n",
              "  medical                  Eye Pressure\n",
              "  Type                           hybrid\n",
              "  Rating                              4\n",
              "  Name: 1361, dtype: object, strain                        Doobiebird Daydream\n",
              "  id                                            696\n",
              "  flavors                   Blueberry, Earthy, Pine\n",
              "  positive    Relaxed, Euphoric, Creative, Uplifted\n",
              "  medical                   Headaches, Eye Pressure\n",
              "  Type                                       hybrid\n",
              "  Rating                                        4.6\n",
              "  Name: 450, dtype: object, strain                                        Tangie Dream\n",
              "  id                                                    1944\n",
              "  flavors                              Citrus, Orange, Sweet\n",
              "  positive    Relaxed, Hungry, Euphoric, Creative, Talkative\n",
              "  medical                             Insomnia, Eye Pressure\n",
              "  Type                                                hybrid\n",
              "  Rating                                                 4.4\n",
              "  Name: 1339, dtype: object, strain                                         Deep Chunk\n",
              "  id                                                    663\n",
              "  flavors                             Earthy, Plum, Ammonia\n",
              "  positive       Relaxed, Euphoric, Happy, Creative, Sleepy\n",
              "  medical     Insomnia, Pain, Stress, Fatigue, Eye Pressure\n",
              "  Type                                               indica\n",
              "  Rating                                                4.3\n",
              "  Name: 429, dtype: object, strain                                         Fruitylicious\n",
              "  id                                                       826\n",
              "  flavors                              Blueberry, Sweet, Berry\n",
              "  positive                            Relaxed, Euphoric, Happy\n",
              "  medical     Depression, Insomnia, Pain, Stress, Eye Pressure\n",
              "  Type                                                  indica\n",
              "  Rating                                                     4\n",
              "  Name: 545, dtype: object])"
            ]
          },
          "metadata": {
            "tags": []
          },
          "execution_count": 61
        }
      ]
    },
    {
      "cell_type": "code",
      "metadata": {
        "id": "Goenh7viXVAO",
        "colab_type": "code",
        "colab": {}
      },
      "source": [
        ""
      ],
      "execution_count": null,
      "outputs": []
    }
  ]
}